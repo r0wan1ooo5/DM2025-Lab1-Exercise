{
 "cells": [
  {
   "cell_type": "markdown",
   "metadata": {},
   "source": [
    "### Student Information\n",
    "Name: 蕭玉琁\n",
    "\n",
    "Student ID: 111700045\n",
    "\n",
    "GitHub ID: r0wan1ooo5"
   ]
  },
  {
   "cell_type": "markdown",
   "metadata": {},
   "source": [
    "---"
   ]
  },
  {
   "cell_type": "markdown",
   "metadata": {},
   "source": [
    "### Instructions"
   ]
  },
  {
   "cell_type": "markdown",
   "metadata": {},
   "source": [
    "### First Phase Submission"
   ]
  },
  {
   "cell_type": "markdown",
   "metadata": {},
   "source": [
    "1. First: do the **take home** exercises in the [DM2025-Lab1-Master](https://github.com/leoson-wu/DM2025-Lab1-Exercise/blob/main/DM2025-Lab1-Master.ipynb) that considered as **phase 1 (from exercise 1 to exercise 15)**. You can answer in the master file. __This part is worth 10% of your grade.__\n",
    "\n",
    "\n",
    "2. Second: follow the same process from the [DM2025-Lab1-Master](https://github.com/leoson-wu/DM2025-Lab1-Exercise/blob/main/DM2025-Lab1-Master.ipynb) on **the new dataset** up **until phase 1**. You can skip some exercises if you think some steps are not necessary. However main exercises should be completed. You don't need to explain all details as we did (some **minimal comments** explaining your code are useful though).  __This part is worth 15% of your grade.__\n",
    "    -  Use [the new dataset](https://github.com/leoson-wu/DM2025-Lab1-Exercise/blob/main/newdataset/Reddit-stock-sentiment.csv). The dataset contains a 16 columns including 'text' and 'label', with the sentiment labels being: 1.0 is positive, 0.0 is neutral and -1.0 is negative. You can simplify the dataset and use only the columns that you think are necessary. \n",
    "    \n",
    "    - You are allowed to use and modify the `helper` functions in the folder of the first lab session (notice they may need modification) or create your own.\n",
    "    - Use this file to complete the homework from the second part. Make sure the code can be run from the beginning till the end and has all the needed output.\n",
    "\n",
    "\n",
    "3. Third: please attempt the following tasks on **the new dataset**. __This part is worth 10% of your grade.__\n",
    "    - Generate meaningful **new data visualizations**. Refer to online resources and the Data Mining textbook for inspiration and ideas. \n",
    "    \n",
    "\n",
    "\n",
    "4. Fourth: It's hard for us to follow if your code is messy, so please **tidy up your notebook** and **add minimal comments where needed**. __This part is worth 5% of your grade.__\n",
    "\n",
    "You can submit your homework following these guidelines: [DM2025-Lab1-announcement](https://github.com/leoson-wu/DM2025-Lab1-Announcement/blob/main/README.md). Make sure to commit and save your changes to your repository __BEFORE the deadline (September 28th 11:59 pm, Sunday)__. "
   ]
  },
  {
   "cell_type": "markdown",
   "metadata": {},
   "source": [
    "### Second Phase Submission "
   ]
  },
  {
   "cell_type": "markdown",
   "metadata": {},
   "source": [
    "**You can keep the answer for phase 1 for easier running and update the phase 2 on the same page.**\n",
    "\n",
    "1. First: Continue doing the **take home** exercises in the [DM2025-Lab1-Master](https://github.com/leoson-wu/DM2025-Lab1-Exercise/blob/main/DM2025-Lab1-Master.ipynb) for **phase 2, starting from Finding frequent patterns**. Use the same master(.ipynb) file. Answer from phase 1 will not be considered at this stage. You can answer in the master file. __This part is worth 10% of your grade.__\n",
    "\n",
    "\n",
    "2. Second: Continue from first phase and do the same process from the [DM2025-Lab1-Master](https://github.com/leoson-wu/DM2025-Lab1-Exercise/blob/main/DM2025-Lab1-Master.ipynb) on **the new dataset** for phase 2, starting from Finding frequent pattern. You can skip some exercises if you think some steps are not necessary. However main exercises should be completed. You don't need to explain all details as we did (some **minimal comments** explaining your code are useful though).  __This part is worth 15% of your grade.__\n",
    "    - Continue using this file to complete the homework from the second part. Make sure the code can be run from the beginning till the end and has all the needed output. Use the same new dataset as in phase 1.\n",
    "    \n",
    "    - You are allowed to use and modify the `helper` functions in the folder of the first lab session (notice they may need modification) or create your own.\n",
    "\n",
    "3. Third: please attempt the following tasks on **the new dataset**. __This part is worth 20% of your grade.__\n",
    "    - Use this file to answer.\n",
    "    - Generate **TF-IDF features** from the tokens of each text. This will generating a document matrix, however, the weights will be computed differently (using the TF-IDF value of each word per document as opposed to the word frequency).  Refer to this Scikit-learn [guide](http://scikit-learn.org/stable/modules/generated/sklearn.feature_extraction.text.TfidfVectorizer.html) .\n",
    "    - Implement a simple **Naive Bayes classifier** that automatically classifies the records into their categories. Use both the TF-IDF features and word frequency features to build two seperate classifiers. Note that for the TF-IDF features you might need to use other type of NB classifier different than the one in the Master Notebook. Comment on the differences and when using augmentation with feature pattern.  Refer to this [article](https://hub.packtpub.com/implementing-3-naive-bayes-classifiers-in-scikit-learn/).\n",
    "\n",
    "\n",
    "4. Fourth: In the lab, we applied each step really quickly just to illustrate how to work with your dataset. There are somethings that are not ideal or the most efficient/meaningful. Each dataset can be handled differently as well. What are those inefficent parts you noticed? How can you improve the Data preprocessing for these specific datasets? __This part is worth 10% of your grade.__\n",
    "\n",
    "\n",
    "5. Fifth: It's hard for us to follow if your code is messy, so please **tidy up your notebook** and **add minimal comments where needed**. __This part is worth 5% of your grade.__\n",
    "\n",
    "\n",
    "You can submit your homework following these guidelines: [DM2025-Lab1-announcement](https://github.com/leoson-wu/DM2025-Lab1-Announcement/blob/main/README.md). Make sure to commit and save your changes to your repository __BEFORE the deadline (October 19th 11:59 pm, Sunday)__. "
   ]
  },
  {
   "cell_type": "markdown",
   "metadata": {},
   "source": [
    "# Phase 1"
   ]
  },
  {
   "cell_type": "markdown",
   "metadata": {},
   "source": [
    "### 1. Setup"
   ]
  },
  {
   "cell_type": "code",
   "execution_count": 70,
   "metadata": {},
   "outputs": [
    {
     "name": "stdout",
     "output_type": "stream",
     "text": [
      "The autoreload extension is already loaded. To reload it, use:\n",
      "  %reload_ext autoreload\n",
      "/Users/r0wan/DM2025/DM2025-Lab1-Exercise/.venv/bin/python\n",
      "3.11.0 (v3.11.0:deaf509e8f, Oct 24 2022, 14:43:23) [Clang 13.0.0 (clang-1300.0.29.30)]\n"
     ]
    },
    {
     "name": "stderr",
     "output_type": "stream",
     "text": [
      "[nltk_data] Downloading package punkt to /Users/r0wan/nltk_data...\n",
      "[nltk_data]   Package punkt is already up-to-date!\n",
      "[nltk_data] Downloading package punkt_tab to /Users/r0wan/nltk_data...\n",
      "[nltk_data]   Package punkt_tab is already up-to-date!\n"
     ]
    }
   ],
   "source": [
    "### Begin Assignment Here\n",
    "# test code for environment setup\n",
    "import pandas as pd\n",
    "import numpy as np\n",
    "import nltk\n",
    "nltk.download('punkt') # download the NLTK datasets\n",
    "nltk.download(\"punkt_tab\")\n",
    "from sklearn.datasets import fetch_20newsgroups\n",
    "from sklearn.feature_extraction.text import CountVectorizer\n",
    "import plotly as py\n",
    "import math\n",
    "\n",
    "import helpers.data_mining_helpers as dmh\n",
    "# If you get \"ModuleNotFoundError: No module named 'PAMI'\"\n",
    "# run the following in a new Jupyter cell:\n",
    "# !pip3 install PAMI\n",
    "import PAMI\n",
    "import umap\n",
    "\n",
    "# TEST necessary for when working with external scripts\n",
    "%load_ext autoreload\n",
    "%autoreload 2\n",
    "\n",
    "import sys\n",
    "print(sys.executable) # c:\\<your path to the project directory>\\.venv\\Scripts\\python.exe\n",
    "print(sys.version) #3.11.0"
   ]
  },
  {
   "cell_type": "markdown",
   "metadata": {},
   "source": [
    "### 2. Data Preparation\n",
    "### 3. Data Transformation"
   ]
  },
  {
   "cell_type": "code",
   "execution_count": 71,
   "metadata": {},
   "outputs": [
    {
     "data": {
      "text/html": [
       "<div>\n",
       "<style scoped>\n",
       "    .dataframe tbody tr th:only-of-type {\n",
       "        vertical-align: middle;\n",
       "    }\n",
       "\n",
       "    .dataframe tbody tr th {\n",
       "        vertical-align: top;\n",
       "    }\n",
       "\n",
       "    .dataframe thead th {\n",
       "        text-align: right;\n",
       "    }\n",
       "</style>\n",
       "<table border=\"1\" class=\"dataframe\">\n",
       "  <thead>\n",
       "    <tr style=\"text-align: right;\">\n",
       "      <th></th>\n",
       "      <th>type</th>\n",
       "      <th>datetime</th>\n",
       "      <th>post_id</th>\n",
       "      <th>subreddit</th>\n",
       "      <th>title</th>\n",
       "      <th>author</th>\n",
       "      <th>url</th>\n",
       "      <th>upvotes</th>\n",
       "      <th>downvotes</th>\n",
       "      <th>upvote_ratio</th>\n",
       "      <th>text</th>\n",
       "      <th>subjectivity</th>\n",
       "      <th>polarity</th>\n",
       "      <th>sentiment</th>\n",
       "      <th>entities</th>\n",
       "      <th>label</th>\n",
       "    </tr>\n",
       "  </thead>\n",
       "  <tbody>\n",
       "    <tr>\n",
       "      <th>0</th>\n",
       "      <td>comment</td>\n",
       "      <td>2025-04-11 17:29:56</td>\n",
       "      <td>mmli62w</td>\n",
       "      <td>wallstreetbets</td>\n",
       "      <td>Retardation is on the menu boys! WSB is so back</td>\n",
       "      <td>StickyTip420</td>\n",
       "      <td>https://i.redd.it/0yq2ftren8ue1.jpeg</td>\n",
       "      <td>0</td>\n",
       "      <td>NaN</td>\n",
       "      <td>NaN</td>\n",
       "      <td>Calls on retards</td>\n",
       "      <td>1.000000</td>\n",
       "      <td>-0.900000</td>\n",
       "      <td>-1.0</td>\n",
       "      <td>[]</td>\n",
       "      <td>-1.0</td>\n",
       "    </tr>\n",
       "    <tr>\n",
       "      <th>1</th>\n",
       "      <td>comment</td>\n",
       "      <td>2025-04-12 1:12:19</td>\n",
       "      <td>mmnu7v9</td>\n",
       "      <td>wallstreetbets</td>\n",
       "      <td>Retail giant TARGET has now declined for 10 co...</td>\n",
       "      <td>Comfortable-Dog-8437</td>\n",
       "      <td>https://i.redd.it/7tl6puv9waue1.jpeg</td>\n",
       "      <td>-15</td>\n",
       "      <td>NaN</td>\n",
       "      <td>NaN</td>\n",
       "      <td>Stunt as in like why did they even make a big ...</td>\n",
       "      <td>0.177778</td>\n",
       "      <td>0.083333</td>\n",
       "      <td>1.0</td>\n",
       "      <td>['Stunt', 'company', 'deal', 'place']</td>\n",
       "      <td>0.0</td>\n",
       "    </tr>\n",
       "    <tr>\n",
       "      <th>2</th>\n",
       "      <td>comment</td>\n",
       "      <td>2025-04-10 15:09:41</td>\n",
       "      <td>mmeevio</td>\n",
       "      <td>StockMarket</td>\n",
       "      <td>How do you feel about a sitting president maki...</td>\n",
       "      <td>Btankersly66</td>\n",
       "      <td>https://apnews.com/article/trump-truth-social-...</td>\n",
       "      <td>1</td>\n",
       "      <td>NaN</td>\n",
       "      <td>NaN</td>\n",
       "      <td>Seeing lots of red in the ticker.</td>\n",
       "      <td>0.000000</td>\n",
       "      <td>0.000000</td>\n",
       "      <td>0.0</td>\n",
       "      <td>['ticker']</td>\n",
       "      <td>0.0</td>\n",
       "    </tr>\n",
       "    <tr>\n",
       "      <th>3</th>\n",
       "      <td>post</td>\n",
       "      <td>2023-08-30 17:12:55</td>\n",
       "      <td>165kllm</td>\n",
       "      <td>stockstobuytoday</td>\n",
       "      <td>Who knows more? $VMAR</td>\n",
       "      <td>emiljenfn</td>\n",
       "      <td>https://www.reddit.com/r/stockstobuytoday/comm...</td>\n",
       "      <td>30</td>\n",
       "      <td>0.0</td>\n",
       "      <td>0.98</td>\n",
       "      <td>Vision Marine Technologies Inc. is rewriting t...</td>\n",
       "      <td>0.646970</td>\n",
       "      <td>0.216383</td>\n",
       "      <td>1.0</td>\n",
       "      <td>['watercraft', 'skill', 'power', ']', 'feat', ...</td>\n",
       "      <td>1.0</td>\n",
       "    </tr>\n",
       "    <tr>\n",
       "      <th>4</th>\n",
       "      <td>comment</td>\n",
       "      <td>2025-04-11 14:48:05</td>\n",
       "      <td>mmkl6bw</td>\n",
       "      <td>StockMarket</td>\n",
       "      <td>The Trump administration is begging Xi Jinping...</td>\n",
       "      <td>Just-Big6411</td>\n",
       "      <td>https://edition.cnn.com/2025/04/10/politics/tr...</td>\n",
       "      <td>1</td>\n",
       "      <td>NaN</td>\n",
       "      <td>NaN</td>\n",
       "      <td>He didn’t say thank you.</td>\n",
       "      <td>0.000000</td>\n",
       "      <td>0.000000</td>\n",
       "      <td>0.0</td>\n",
       "      <td>[]</td>\n",
       "      <td>-1.0</td>\n",
       "    </tr>\n",
       "  </tbody>\n",
       "</table>\n",
       "</div>"
      ],
      "text/plain": [
       "      type             datetime  post_id         subreddit  \\\n",
       "0  comment  2025-04-11 17:29:56  mmli62w    wallstreetbets   \n",
       "1  comment   2025-04-12 1:12:19  mmnu7v9    wallstreetbets   \n",
       "2  comment  2025-04-10 15:09:41  mmeevio       StockMarket   \n",
       "3     post  2023-08-30 17:12:55  165kllm  stockstobuytoday   \n",
       "4  comment  2025-04-11 14:48:05  mmkl6bw       StockMarket   \n",
       "\n",
       "                                               title                author  \\\n",
       "0    Retardation is on the menu boys! WSB is so back          StickyTip420   \n",
       "1  Retail giant TARGET has now declined for 10 co...  Comfortable-Dog-8437   \n",
       "2  How do you feel about a sitting president maki...          Btankersly66   \n",
       "3                              Who knows more? $VMAR             emiljenfn   \n",
       "4  The Trump administration is begging Xi Jinping...          Just-Big6411   \n",
       "\n",
       "                                                 url  upvotes  downvotes  \\\n",
       "0               https://i.redd.it/0yq2ftren8ue1.jpeg        0        NaN   \n",
       "1               https://i.redd.it/7tl6puv9waue1.jpeg      -15        NaN   \n",
       "2  https://apnews.com/article/trump-truth-social-...        1        NaN   \n",
       "3  https://www.reddit.com/r/stockstobuytoday/comm...       30        0.0   \n",
       "4  https://edition.cnn.com/2025/04/10/politics/tr...        1        NaN   \n",
       "\n",
       "   upvote_ratio                                               text  \\\n",
       "0           NaN                                   Calls on retards   \n",
       "1           NaN  Stunt as in like why did they even make a big ...   \n",
       "2           NaN                  Seeing lots of red in the ticker.   \n",
       "3          0.98  Vision Marine Technologies Inc. is rewriting t...   \n",
       "4           NaN                           He didn’t say thank you.   \n",
       "\n",
       "   subjectivity  polarity  sentiment  \\\n",
       "0      1.000000 -0.900000       -1.0   \n",
       "1      0.177778  0.083333        1.0   \n",
       "2      0.000000  0.000000        0.0   \n",
       "3      0.646970  0.216383        1.0   \n",
       "4      0.000000  0.000000        0.0   \n",
       "\n",
       "                                            entities  label  \n",
       "0                                                 []   -1.0  \n",
       "1              ['Stunt', 'company', 'deal', 'place']    0.0  \n",
       "2                                         ['ticker']    0.0  \n",
       "3  ['watercraft', 'skill', 'power', ']', 'feat', ...    1.0  \n",
       "4                                                 []   -1.0  "
      ]
     },
     "execution_count": 71,
     "metadata": {},
     "output_type": "execute_result"
    }
   ],
   "source": [
    "Reddit = pd.read_csv(\"newdataset/Reddit-stock-sentiment.csv\")\n",
    "Reddit.head()"
   ]
  },
  {
   "cell_type": "code",
   "execution_count": 72,
   "metadata": {},
   "outputs": [
    {
     "data": {
      "text/plain": [
       "type             object\n",
       "datetime         object\n",
       "post_id          object\n",
       "subreddit        object\n",
       "title            object\n",
       "author           object\n",
       "url              object\n",
       "upvotes           int64\n",
       "downvotes       float64\n",
       "upvote_ratio    float64\n",
       "text             object\n",
       "subjectivity    float64\n",
       "polarity        float64\n",
       "sentiment       float64\n",
       "entities         object\n",
       "label           float64\n",
       "dtype: object"
      ]
     },
     "execution_count": 72,
     "metadata": {},
     "output_type": "execute_result"
    }
   ],
   "source": [
    "Reddit.dtypes"
   ]
  },
  {
   "cell_type": "code",
   "execution_count": null,
   "metadata": {},
   "outputs": [],
   "source": [
    "# recorrect data type\n",
    "if 'datetime' in Reddit.columns:\n",
    "    Reddit['datetime'] = pd.to_datetime(Reddit['datetime'], errors='coerce')"
   ]
  },
  {
   "cell_type": "code",
   "execution_count": 74,
   "metadata": {},
   "outputs": [
    {
     "data": {
      "text/plain": [
       "type                    object\n",
       "datetime        datetime64[ns]\n",
       "post_id                 object\n",
       "subreddit               object\n",
       "title                   object\n",
       "author                  object\n",
       "url                     object\n",
       "upvotes                  int64\n",
       "downvotes              float64\n",
       "upvote_ratio           float64\n",
       "text                    object\n",
       "subjectivity           float64\n",
       "polarity               float64\n",
       "sentiment              float64\n",
       "entities                object\n",
       "label                  float64\n",
       "dtype: object"
      ]
     },
     "execution_count": 74,
     "metadata": {},
     "output_type": "execute_result"
    }
   ],
   "source": [
    "Reddit.dtypes"
   ]
  },
  {
   "cell_type": "code",
   "execution_count": null,
   "metadata": {},
   "outputs": [],
   "source": [
    "# create a new binary column 'is_post' where 'type' is 'post'\n",
    "Reddit['is_post'] = (Reddit['type'] == 'post').astype(int)"
   ]
  },
  {
   "cell_type": "code",
   "execution_count": 77,
   "metadata": {},
   "outputs": [
    {
     "data": {
      "text/plain": [
       "847"
      ]
     },
     "execution_count": 77,
     "metadata": {},
     "output_type": "execute_result"
    }
   ],
   "source": [
    "len(Reddit)"
   ]
  },
  {
   "cell_type": "markdown",
   "metadata": {},
   "source": [
    "### 4. Data Mining using Pandas"
   ]
  },
  {
   "cell_type": "code",
   "execution_count": 78,
   "metadata": {},
   "outputs": [
    {
     "data": {
      "text/html": [
       "<div>\n",
       "<style scoped>\n",
       "    .dataframe tbody tr th:only-of-type {\n",
       "        vertical-align: middle;\n",
       "    }\n",
       "\n",
       "    .dataframe tbody tr th {\n",
       "        vertical-align: top;\n",
       "    }\n",
       "\n",
       "    .dataframe thead th {\n",
       "        text-align: right;\n",
       "    }\n",
       "</style>\n",
       "<table border=\"1\" class=\"dataframe\">\n",
       "  <thead>\n",
       "    <tr style=\"text-align: right;\">\n",
       "      <th></th>\n",
       "      <th>type</th>\n",
       "      <th>datetime</th>\n",
       "      <th>post_id</th>\n",
       "      <th>subreddit</th>\n",
       "      <th>title</th>\n",
       "      <th>author</th>\n",
       "      <th>url</th>\n",
       "      <th>upvotes</th>\n",
       "      <th>downvotes</th>\n",
       "      <th>upvote_ratio</th>\n",
       "      <th>text</th>\n",
       "      <th>subjectivity</th>\n",
       "      <th>polarity</th>\n",
       "      <th>sentiment</th>\n",
       "      <th>entities</th>\n",
       "      <th>label</th>\n",
       "      <th>is_post</th>\n",
       "    </tr>\n",
       "  </thead>\n",
       "  <tbody>\n",
       "    <tr>\n",
       "      <th>0</th>\n",
       "      <td>The amoung of missing records is:</td>\n",
       "      <td>The amoung of missing records is:</td>\n",
       "      <td>The amoung of missing records is:</td>\n",
       "      <td>The amoung of missing records is:</td>\n",
       "      <td>The amoung of missing records is:</td>\n",
       "      <td>The amoung of missing records is:</td>\n",
       "      <td>The amoung of missing records is:</td>\n",
       "      <td>The amoung of missing records is:</td>\n",
       "      <td>The amoung of missing records is:</td>\n",
       "      <td>The amoung of missing records is:</td>\n",
       "      <td>The amoung of missing records is:</td>\n",
       "      <td>The amoung of missing records is:</td>\n",
       "      <td>The amoung of missing records is:</td>\n",
       "      <td>The amoung of missing records is:</td>\n",
       "      <td>The amoung of missing records is:</td>\n",
       "      <td>The amoung of missing records is:</td>\n",
       "      <td>The amoung of missing records is:</td>\n",
       "    </tr>\n",
       "    <tr>\n",
       "      <th>1</th>\n",
       "      <td>0</td>\n",
       "      <td>0</td>\n",
       "      <td>0</td>\n",
       "      <td>0</td>\n",
       "      <td>0</td>\n",
       "      <td>0</td>\n",
       "      <td>0</td>\n",
       "      <td>0</td>\n",
       "      <td>783</td>\n",
       "      <td>783</td>\n",
       "      <td>0</td>\n",
       "      <td>0</td>\n",
       "      <td>0</td>\n",
       "      <td>0</td>\n",
       "      <td>0</td>\n",
       "      <td>0</td>\n",
       "      <td>0</td>\n",
       "    </tr>\n",
       "  </tbody>\n",
       "</table>\n",
       "</div>"
      ],
      "text/plain": [
       "                                 type                            datetime  \\\n",
       "0  The amoung of missing records is:   The amoung of missing records is:    \n",
       "1                                   0                                   0   \n",
       "\n",
       "                              post_id                           subreddit  \\\n",
       "0  The amoung of missing records is:   The amoung of missing records is:    \n",
       "1                                   0                                   0   \n",
       "\n",
       "                                title                              author  \\\n",
       "0  The amoung of missing records is:   The amoung of missing records is:    \n",
       "1                                   0                                   0   \n",
       "\n",
       "                                  url                             upvotes  \\\n",
       "0  The amoung of missing records is:   The amoung of missing records is:    \n",
       "1                                   0                                   0   \n",
       "\n",
       "                            downvotes                        upvote_ratio  \\\n",
       "0  The amoung of missing records is:   The amoung of missing records is:    \n",
       "1                                 783                                 783   \n",
       "\n",
       "                                 text                        subjectivity  \\\n",
       "0  The amoung of missing records is:   The amoung of missing records is:    \n",
       "1                                   0                                   0   \n",
       "\n",
       "                             polarity                           sentiment  \\\n",
       "0  The amoung of missing records is:   The amoung of missing records is:    \n",
       "1                                   0                                   0   \n",
       "\n",
       "                             entities                               label  \\\n",
       "0  The amoung of missing records is:   The amoung of missing records is:    \n",
       "1                                   0                                   0   \n",
       "\n",
       "                              is_post  \n",
       "0  The amoung of missing records is:   \n",
       "1                                   0  "
      ]
     },
     "execution_count": 78,
     "metadata": {},
     "output_type": "execute_result"
    }
   ],
   "source": [
    "# check missing values\n",
    "Reddit.isnull().apply(lambda x: dmh.check_missing_values(x))"
   ]
  },
  {
   "cell_type": "code",
   "execution_count": 79,
   "metadata": {},
   "outputs": [
    {
     "data": {
      "text/plain": [
       "0"
      ]
     },
     "execution_count": 79,
     "metadata": {},
     "output_type": "execute_result"
    }
   ],
   "source": [
    "# check duplicates\n",
    "sum(Reddit.duplicated())"
   ]
  },
  {
   "cell_type": "code",
   "execution_count": 80,
   "metadata": {},
   "outputs": [
    {
     "data": {
      "text/plain": [
       "23"
      ]
     },
     "execution_count": 80,
     "metadata": {},
     "output_type": "execute_result"
    }
   ],
   "source": [
    "sum(Reddit['text'].duplicated())"
   ]
  },
  {
   "cell_type": "code",
   "execution_count": 161,
   "metadata": {},
   "outputs": [
    {
     "data": {
      "text/html": [
       "<div>\n",
       "<style scoped>\n",
       "    .dataframe tbody tr th:only-of-type {\n",
       "        vertical-align: middle;\n",
       "    }\n",
       "\n",
       "    .dataframe tbody tr th {\n",
       "        vertical-align: top;\n",
       "    }\n",
       "\n",
       "    .dataframe thead th {\n",
       "        text-align: right;\n",
       "    }\n",
       "</style>\n",
       "<table border=\"1\" class=\"dataframe\">\n",
       "  <thead>\n",
       "    <tr style=\"text-align: right;\">\n",
       "      <th></th>\n",
       "      <th>type</th>\n",
       "      <th>datetime</th>\n",
       "      <th>post_id</th>\n",
       "      <th>subreddit</th>\n",
       "      <th>title</th>\n",
       "      <th>author</th>\n",
       "      <th>url</th>\n",
       "      <th>upvotes</th>\n",
       "      <th>downvotes</th>\n",
       "      <th>upvote_ratio</th>\n",
       "      <th>text</th>\n",
       "      <th>subjectivity</th>\n",
       "      <th>polarity</th>\n",
       "      <th>sentiment</th>\n",
       "      <th>entities</th>\n",
       "      <th>label</th>\n",
       "      <th>is_post</th>\n",
       "    </tr>\n",
       "  </thead>\n",
       "  <tbody>\n",
       "    <tr>\n",
       "      <th>34</th>\n",
       "      <td>comment</td>\n",
       "      <td>2021-02-01 13:45:52</td>\n",
       "      <td>gllif2v</td>\n",
       "      <td>stocks</td>\n",
       "      <td>It's fucking awful seeing the \"Silver\" misinfo...</td>\n",
       "      <td>SmithRune735</td>\n",
       "      <td>https://www.reddit.com/r/stocks/comments/la34b...</td>\n",
       "      <td>1</td>\n",
       "      <td>NaN</td>\n",
       "      <td>NaN</td>\n",
       "      <td>So they went from saying redditors are bad for...</td>\n",
       "      <td>0.666667</td>\n",
       "      <td>-0.7000</td>\n",
       "      <td>-1.0</td>\n",
       "      <td>['market', 'silver']</td>\n",
       "      <td>1.0</td>\n",
       "      <td>0</td>\n",
       "    </tr>\n",
       "    <tr>\n",
       "      <th>42</th>\n",
       "      <td>comment</td>\n",
       "      <td>2021-02-01 13:45:17</td>\n",
       "      <td>gllicpw</td>\n",
       "      <td>stocks</td>\n",
       "      <td>It's fucking awful seeing the \"Silver\" misinfo...</td>\n",
       "      <td>SmithRune735</td>\n",
       "      <td>https://www.reddit.com/r/stocks/comments/la34b...</td>\n",
       "      <td>3943</td>\n",
       "      <td>NaN</td>\n",
       "      <td>NaN</td>\n",
       "      <td>So they went from saying redditors are bad for...</td>\n",
       "      <td>0.666667</td>\n",
       "      <td>-0.7000</td>\n",
       "      <td>-1.0</td>\n",
       "      <td>['market', 'silver']</td>\n",
       "      <td>1.0</td>\n",
       "      <td>0</td>\n",
       "    </tr>\n",
       "    <tr>\n",
       "      <th>70</th>\n",
       "      <td>post</td>\n",
       "      <td>2025-03-29 18:14:28</td>\n",
       "      <td>1jmshlc</td>\n",
       "      <td>stockstobuytoday</td>\n",
       "      <td>FINRA Daily Shorts Data</td>\n",
       "      <td>saasfin</td>\n",
       "      <td>https://www.reddit.com/r/stockstobuytoday/comm...</td>\n",
       "      <td>1</td>\n",
       "      <td>0.0</td>\n",
       "      <td>1.0</td>\n",
       "      <td>Updated Daily by EOD\\n\\n  \\n[Daily Shorts]()</td>\n",
       "      <td>0.100000</td>\n",
       "      <td>0.0000</td>\n",
       "      <td>0.0</td>\n",
       "      <td>['EOD', 'Daily', 'Shorts', ']', '[']</td>\n",
       "      <td>0.0</td>\n",
       "      <td>1</td>\n",
       "    </tr>\n",
       "    <tr>\n",
       "      <th>105</th>\n",
       "      <td>post</td>\n",
       "      <td>2025-04-04 09:01:07</td>\n",
       "      <td>1jr7fe1</td>\n",
       "      <td>stockstobuytoday</td>\n",
       "      <td>World Markets</td>\n",
       "      <td>AutoModerator</td>\n",
       "      <td>https://www.reddit.com/r/stockstobuytoday/comm...</td>\n",
       "      <td>1</td>\n",
       "      <td>0.0</td>\n",
       "      <td>1.0</td>\n",
       "      <td>\\n\\n  [World Markets (stockbuyvest.com)]()</td>\n",
       "      <td>0.000000</td>\n",
       "      <td>0.0000</td>\n",
       "      <td>0.0</td>\n",
       "      <td>[']', 'World', 'stockbuyvest.com', 'Markets']</td>\n",
       "      <td>0.0</td>\n",
       "      <td>1</td>\n",
       "    </tr>\n",
       "    <tr>\n",
       "      <th>159</th>\n",
       "      <td>post</td>\n",
       "      <td>2025-04-11 13:54:31</td>\n",
       "      <td>1jwqgce</td>\n",
       "      <td>stockstobuytoday</td>\n",
       "      <td>Gappers (Up/Down)</td>\n",
       "      <td>saasfin</td>\n",
       "      <td>https://www.reddit.com/r/stockstobuytoday/comm...</td>\n",
       "      <td>1</td>\n",
       "      <td>0.0</td>\n",
       "      <td>1.0</td>\n",
       "      <td>Gappers for today\\n\\n [Gappers (stockbuyvest.c...</td>\n",
       "      <td>0.000000</td>\n",
       "      <td>0.0000</td>\n",
       "      <td>0.0</td>\n",
       "      <td>['Gappers', 'stockbuyvest.com', ']', 'today', ...</td>\n",
       "      <td>0.0</td>\n",
       "      <td>1</td>\n",
       "    </tr>\n",
       "    <tr>\n",
       "      <th>160</th>\n",
       "      <td>post</td>\n",
       "      <td>2025-04-03 12:18:32</td>\n",
       "      <td>1jqgwyz</td>\n",
       "      <td>stockstobuytoday</td>\n",
       "      <td>Futures Market</td>\n",
       "      <td>saasfin</td>\n",
       "      <td>https://www.reddit.com/r/stockstobuytoday/comm...</td>\n",
       "      <td>1</td>\n",
       "      <td>0.0</td>\n",
       "      <td>1.0</td>\n",
       "      <td>how does the futures market look today\\n\\nSPY,...</td>\n",
       "      <td>0.377083</td>\n",
       "      <td>0.0625</td>\n",
       "      <td>1.0</td>\n",
       "      <td>['Natural', 'stockbuyvest.com', 'Gold', 'marke...</td>\n",
       "      <td>0.0</td>\n",
       "      <td>1</td>\n",
       "    </tr>\n",
       "    <tr>\n",
       "      <th>179</th>\n",
       "      <td>post</td>\n",
       "      <td>2025-03-25 15:47:42</td>\n",
       "      <td>1jjmipo</td>\n",
       "      <td>stockstobuytoday</td>\n",
       "      <td>Dark Pool Data</td>\n",
       "      <td>saasfin</td>\n",
       "      <td>https://www.reddit.com/r/stockstobuytoday/comm...</td>\n",
       "      <td>1</td>\n",
       "      <td>0.0</td>\n",
       "      <td>1.0</td>\n",
       "      <td>This data is from FINRA ATS - Updated Weekly\\n...</td>\n",
       "      <td>0.000000</td>\n",
       "      <td>0.0000</td>\n",
       "      <td>0.0</td>\n",
       "      <td>['FINRA', 'data', 'ATS', 'FINRA ATS - Updated'...</td>\n",
       "      <td>0.0</td>\n",
       "      <td>1</td>\n",
       "    </tr>\n",
       "    <tr>\n",
       "      <th>192</th>\n",
       "      <td>post</td>\n",
       "      <td>2025-03-21 21:15:20</td>\n",
       "      <td>1jgrs02</td>\n",
       "      <td>stockstobuytoday</td>\n",
       "      <td>Commitment of Trader Report</td>\n",
       "      <td>saasfin</td>\n",
       "      <td>https://www.reddit.com/r/stockstobuytoday/comm...</td>\n",
       "      <td>1</td>\n",
       "      <td>0.0</td>\n",
       "      <td>1.0</td>\n",
       "      <td>Summarized with Highlights, updated weekly be ...</td>\n",
       "      <td>0.000000</td>\n",
       "      <td>0.0000</td>\n",
       "      <td>0.0</td>\n",
       "      <td>[']', 'Highlights', 'Report', 'EOW', 'Summary'...</td>\n",
       "      <td>0.0</td>\n",
       "      <td>1</td>\n",
       "    </tr>\n",
       "    <tr>\n",
       "      <th>284</th>\n",
       "      <td>post</td>\n",
       "      <td>2025-04-06 16:00:59</td>\n",
       "      <td>1jsxft7</td>\n",
       "      <td>stockstobuytoday</td>\n",
       "      <td>Crypto Gainers - Coinbase</td>\n",
       "      <td>AutoModerator</td>\n",
       "      <td>https://www.reddit.com/r/stockstobuytoday/comm...</td>\n",
       "      <td>1</td>\n",
       "      <td>0.0</td>\n",
       "      <td>1.0</td>\n",
       "      <td>&amp;#x200B;\\n\\n [Cryptocurrency Prices, Charts, D...</td>\n",
       "      <td>0.000000</td>\n",
       "      <td>0.0000</td>\n",
       "      <td>0.0</td>\n",
       "      <td>[']', 'Daily', 'Charts', 'PEPEUSD', 'Prices', ...</td>\n",
       "      <td>0.0</td>\n",
       "      <td>1</td>\n",
       "    </tr>\n",
       "    <tr>\n",
       "      <th>349</th>\n",
       "      <td>post</td>\n",
       "      <td>2025-03-22 18:14:30</td>\n",
       "      <td>1jhestv</td>\n",
       "      <td>stockstobuytoday</td>\n",
       "      <td>FINRA Daily Shorts Data</td>\n",
       "      <td>saasfin</td>\n",
       "      <td>https://www.reddit.com/r/stockstobuytoday/comm...</td>\n",
       "      <td>1</td>\n",
       "      <td>0.0</td>\n",
       "      <td>1.0</td>\n",
       "      <td>Updated Daily by EOD\\n\\n  \\n[Daily Shorts]()</td>\n",
       "      <td>0.100000</td>\n",
       "      <td>0.0000</td>\n",
       "      <td>0.0</td>\n",
       "      <td>['EOD', 'Daily', 'Shorts', ']', '[']</td>\n",
       "      <td>0.0</td>\n",
       "      <td>1</td>\n",
       "    </tr>\n",
       "    <tr>\n",
       "      <th>352</th>\n",
       "      <td>post</td>\n",
       "      <td>2025-04-08 12:18:30</td>\n",
       "      <td>1juc5fs</td>\n",
       "      <td>stockstobuytoday</td>\n",
       "      <td>Futures Market</td>\n",
       "      <td>saasfin</td>\n",
       "      <td>https://www.reddit.com/r/stockstobuytoday/comm...</td>\n",
       "      <td>1</td>\n",
       "      <td>0.0</td>\n",
       "      <td>1.0</td>\n",
       "      <td>how does the futures market look today\\n\\nSPY,...</td>\n",
       "      <td>0.377083</td>\n",
       "      <td>0.0625</td>\n",
       "      <td>1.0</td>\n",
       "      <td>['Natural', 'stockbuyvest.com', 'Gold', 'marke...</td>\n",
       "      <td>0.0</td>\n",
       "      <td>1</td>\n",
       "    </tr>\n",
       "    <tr>\n",
       "      <th>387</th>\n",
       "      <td>post</td>\n",
       "      <td>2025-03-24 15:47:30</td>\n",
       "      <td>1jituo3</td>\n",
       "      <td>stockstobuytoday</td>\n",
       "      <td>Dark Pool Data</td>\n",
       "      <td>saasfin</td>\n",
       "      <td>https://www.reddit.com/r/stockstobuytoday/comm...</td>\n",
       "      <td>1</td>\n",
       "      <td>0.0</td>\n",
       "      <td>1.0</td>\n",
       "      <td>This data is from FINRA ATS - Updated Weekly\\n...</td>\n",
       "      <td>0.000000</td>\n",
       "      <td>0.0000</td>\n",
       "      <td>0.0</td>\n",
       "      <td>['FINRA', 'data', 'ATS', 'FINRA ATS - Updated'...</td>\n",
       "      <td>0.0</td>\n",
       "      <td>1</td>\n",
       "    </tr>\n",
       "    <tr>\n",
       "      <th>409</th>\n",
       "      <td>post</td>\n",
       "      <td>2025-03-25 12:30:39</td>\n",
       "      <td>1jji7cr</td>\n",
       "      <td>stockstobuytoday</td>\n",
       "      <td>Analyst Recommendations</td>\n",
       "      <td>saasfin</td>\n",
       "      <td>https://www.reddit.com/r/stockstobuytoday/comm...</td>\n",
       "      <td>1</td>\n",
       "      <td>0.0</td>\n",
       "      <td>1.0</td>\n",
       "      <td>Upgrades, Downgrades\\n\\n [Stock Analyst Recomm...</td>\n",
       "      <td>0.000000</td>\n",
       "      <td>0.0000</td>\n",
       "      <td>0.0</td>\n",
       "      <td>['Analyst', 'Nasdaq', 'Stock', 'Upgrades', 'Do...</td>\n",
       "      <td>0.0</td>\n",
       "      <td>1</td>\n",
       "    </tr>\n",
       "    <tr>\n",
       "      <th>421</th>\n",
       "      <td>post</td>\n",
       "      <td>2025-03-31 14:05:30</td>\n",
       "      <td>1jo3zpc</td>\n",
       "      <td>stockstobuytoday</td>\n",
       "      <td>Stock Gainers for Today</td>\n",
       "      <td>saasfin</td>\n",
       "      <td>https://www.reddit.com/r/stockstobuytoday/comm...</td>\n",
       "      <td>1</td>\n",
       "      <td>0.0</td>\n",
       "      <td>1.0</td>\n",
       "      <td>Stocks that are trending up today\\n\\n [Popping...</td>\n",
       "      <td>0.000000</td>\n",
       "      <td>0.0000</td>\n",
       "      <td>0.0</td>\n",
       "      <td>[']', 'Popping', 'stockbuyvest.com', 'today']</td>\n",
       "      <td>0.0</td>\n",
       "      <td>1</td>\n",
       "    </tr>\n",
       "    <tr>\n",
       "      <th>432</th>\n",
       "      <td>post</td>\n",
       "      <td>2025-04-11 16:01:14</td>\n",
       "      <td>1jwtejt</td>\n",
       "      <td>stockstobuytoday</td>\n",
       "      <td>Crypto Gainers - Coinbase</td>\n",
       "      <td>AutoModerator</td>\n",
       "      <td>https://www.reddit.com/r/stockstobuytoday/comm...</td>\n",
       "      <td>1</td>\n",
       "      <td>0.0</td>\n",
       "      <td>1.0</td>\n",
       "      <td>&amp;#x200B;\\n\\n [Cryptocurrency Prices, Charts, D...</td>\n",
       "      <td>0.000000</td>\n",
       "      <td>0.0000</td>\n",
       "      <td>0.0</td>\n",
       "      <td>[']', 'Daily', 'Charts', 'PEPEUSD', 'Prices', ...</td>\n",
       "      <td>0.0</td>\n",
       "      <td>1</td>\n",
       "    </tr>\n",
       "    <tr>\n",
       "      <th>438</th>\n",
       "      <td>post</td>\n",
       "      <td>2025-03-25 21:15:31</td>\n",
       "      <td>1jjukvz</td>\n",
       "      <td>stockstobuytoday</td>\n",
       "      <td>Commitment of Trader Report</td>\n",
       "      <td>saasfin</td>\n",
       "      <td>https://www.reddit.com/r/stockstobuytoday/comm...</td>\n",
       "      <td>1</td>\n",
       "      <td>0.0</td>\n",
       "      <td>1.0</td>\n",
       "      <td>Summarized with Highlights, updated weekly be ...</td>\n",
       "      <td>0.000000</td>\n",
       "      <td>0.0000</td>\n",
       "      <td>0.0</td>\n",
       "      <td>[']', 'Highlights', 'Report', 'EOW', 'Summary'...</td>\n",
       "      <td>0.0</td>\n",
       "      <td>1</td>\n",
       "    </tr>\n",
       "    <tr>\n",
       "      <th>462</th>\n",
       "      <td>post</td>\n",
       "      <td>2025-04-11 15:47:01</td>\n",
       "      <td>1jwt2cq</td>\n",
       "      <td>stockstobuytoday</td>\n",
       "      <td>Dark Pool Data</td>\n",
       "      <td>saasfin</td>\n",
       "      <td>https://www.reddit.com/r/stockstobuytoday/comm...</td>\n",
       "      <td>1</td>\n",
       "      <td>0.0</td>\n",
       "      <td>1.0</td>\n",
       "      <td>This data is from FINRA ATS - Updated Weekly\\n...</td>\n",
       "      <td>0.000000</td>\n",
       "      <td>0.0000</td>\n",
       "      <td>0.0</td>\n",
       "      <td>['FINRA', 'data', 'ATS', 'FINRA ATS - Updated'...</td>\n",
       "      <td>0.0</td>\n",
       "      <td>1</td>\n",
       "    </tr>\n",
       "    <tr>\n",
       "      <th>473</th>\n",
       "      <td>post</td>\n",
       "      <td>2025-03-28 12:18:29</td>\n",
       "      <td>1jltpwb</td>\n",
       "      <td>stockstobuytoday</td>\n",
       "      <td>Futures Market</td>\n",
       "      <td>saasfin</td>\n",
       "      <td>https://www.reddit.com/r/stockstobuytoday/comm...</td>\n",
       "      <td>1</td>\n",
       "      <td>0.0</td>\n",
       "      <td>1.0</td>\n",
       "      <td>how does the futures market look today\\n\\nSPY,...</td>\n",
       "      <td>0.377083</td>\n",
       "      <td>0.0625</td>\n",
       "      <td>1.0</td>\n",
       "      <td>['Natural', 'stockbuyvest.com', 'Gold', 'marke...</td>\n",
       "      <td>0.0</td>\n",
       "      <td>1</td>\n",
       "    </tr>\n",
       "    <tr>\n",
       "      <th>494</th>\n",
       "      <td>post</td>\n",
       "      <td>2025-04-03 15:20:31</td>\n",
       "      <td>1jql8hg</td>\n",
       "      <td>stockstobuytoday</td>\n",
       "      <td>Threshold Securities -aka Naked Shorts</td>\n",
       "      <td>saasfin</td>\n",
       "      <td>https://www.reddit.com/r/stockstobuytoday/comm...</td>\n",
       "      <td>1</td>\n",
       "      <td>0.0</td>\n",
       "      <td>1.0</td>\n",
       "      <td>\\n\\n [Threshold (stockbuyvest.com)]() \\n\\n$AMC...</td>\n",
       "      <td>0.000000</td>\n",
       "      <td>0.0000</td>\n",
       "      <td>0.0</td>\n",
       "      <td>['INTC', 'NVDA', 'GME', 'CVNA', 'Threshold', '...</td>\n",
       "      <td>0.0</td>\n",
       "      <td>1</td>\n",
       "    </tr>\n",
       "    <tr>\n",
       "      <th>520</th>\n",
       "      <td>post</td>\n",
       "      <td>2025-03-25 18:14:13</td>\n",
       "      <td>1jjq3m5</td>\n",
       "      <td>stockstobuytoday</td>\n",
       "      <td>FINRA Daily Shorts Data</td>\n",
       "      <td>saasfin</td>\n",
       "      <td>https://www.reddit.com/r/stockstobuytoday/comm...</td>\n",
       "      <td>1</td>\n",
       "      <td>0.0</td>\n",
       "      <td>1.0</td>\n",
       "      <td>Updated Daily by EOD\\n\\n  \\n[Daily Shorts]()</td>\n",
       "      <td>0.100000</td>\n",
       "      <td>0.0000</td>\n",
       "      <td>0.0</td>\n",
       "      <td>['EOD', 'Daily', 'Shorts', ']', '[']</td>\n",
       "      <td>0.0</td>\n",
       "      <td>1</td>\n",
       "    </tr>\n",
       "    <tr>\n",
       "      <th>541</th>\n",
       "      <td>post</td>\n",
       "      <td>2025-03-31 15:20:30</td>\n",
       "      <td>1jo5plj</td>\n",
       "      <td>stockstobuytoday</td>\n",
       "      <td>Threshold Securities -aka Naked Shorts</td>\n",
       "      <td>saasfin</td>\n",
       "      <td>https://www.reddit.com/r/stockstobuytoday/comm...</td>\n",
       "      <td>1</td>\n",
       "      <td>0.0</td>\n",
       "      <td>1.0</td>\n",
       "      <td>\\n\\n [Threshold (stockbuyvest.com)]() \\n\\n$AMC...</td>\n",
       "      <td>0.000000</td>\n",
       "      <td>0.0000</td>\n",
       "      <td>0.0</td>\n",
       "      <td>['INTC', 'NVDA', 'GME', 'CVNA', 'Threshold', '...</td>\n",
       "      <td>0.0</td>\n",
       "      <td>1</td>\n",
       "    </tr>\n",
       "    <tr>\n",
       "      <th>583</th>\n",
       "      <td>post</td>\n",
       "      <td>2025-03-21 14:05:32</td>\n",
       "      <td>1jghlrf</td>\n",
       "      <td>stockstobuytoday</td>\n",
       "      <td>Stock Gainers for Today</td>\n",
       "      <td>saasfin</td>\n",
       "      <td>https://www.reddit.com/r/stockstobuytoday/comm...</td>\n",
       "      <td>2</td>\n",
       "      <td>0.0</td>\n",
       "      <td>1.0</td>\n",
       "      <td>Stocks that are trending up today\\n\\n [Popping...</td>\n",
       "      <td>0.000000</td>\n",
       "      <td>0.0000</td>\n",
       "      <td>0.0</td>\n",
       "      <td>[']', 'Popping', 'stockbuyvest.com', 'today']</td>\n",
       "      <td>0.0</td>\n",
       "      <td>1</td>\n",
       "    </tr>\n",
       "    <tr>\n",
       "      <th>588</th>\n",
       "      <td>post</td>\n",
       "      <td>2025-03-31 15:47:40</td>\n",
       "      <td>1jo6cp3</td>\n",
       "      <td>stockstobuytoday</td>\n",
       "      <td>Dark Pool Data</td>\n",
       "      <td>saasfin</td>\n",
       "      <td>https://www.reddit.com/r/stockstobuytoday/comm...</td>\n",
       "      <td>1</td>\n",
       "      <td>0.0</td>\n",
       "      <td>1.0</td>\n",
       "      <td>This data is from FINRA ATS - Updated Weekly\\n...</td>\n",
       "      <td>0.000000</td>\n",
       "      <td>0.0000</td>\n",
       "      <td>0.0</td>\n",
       "      <td>['FINRA', 'data', 'ATS', 'FINRA ATS - Updated'...</td>\n",
       "      <td>0.0</td>\n",
       "      <td>1</td>\n",
       "    </tr>\n",
       "    <tr>\n",
       "      <th>595</th>\n",
       "      <td>post</td>\n",
       "      <td>2025-03-31 16:00:55</td>\n",
       "      <td>1jo6nzr</td>\n",
       "      <td>stockstobuytoday</td>\n",
       "      <td>Crypto Gainers - Coinbase</td>\n",
       "      <td>AutoModerator</td>\n",
       "      <td>https://www.reddit.com/r/stockstobuytoday/comm...</td>\n",
       "      <td>1</td>\n",
       "      <td>0.0</td>\n",
       "      <td>1.0</td>\n",
       "      <td>&amp;#x200B;\\n\\n [Cryptocurrency Prices, Charts, D...</td>\n",
       "      <td>0.000000</td>\n",
       "      <td>0.0000</td>\n",
       "      <td>0.0</td>\n",
       "      <td>[']', 'Daily', 'Charts', 'PEPEUSD', 'Prices', ...</td>\n",
       "      <td>0.0</td>\n",
       "      <td>1</td>\n",
       "    </tr>\n",
       "    <tr>\n",
       "      <th>679</th>\n",
       "      <td>post</td>\n",
       "      <td>2025-03-29 16:00:54</td>\n",
       "      <td>1jmphcr</td>\n",
       "      <td>stockstobuytoday</td>\n",
       "      <td>Crypto Gainers - Coinbase</td>\n",
       "      <td>AutoModerator</td>\n",
       "      <td>https://www.reddit.com/r/stockstobuytoday/comm...</td>\n",
       "      <td>1</td>\n",
       "      <td>0.0</td>\n",
       "      <td>1.0</td>\n",
       "      <td>&amp;#x200B;\\n\\n [Cryptocurrency Prices, Charts, D...</td>\n",
       "      <td>0.000000</td>\n",
       "      <td>0.0000</td>\n",
       "      <td>0.0</td>\n",
       "      <td>[']', 'Daily', 'Charts', 'PEPEUSD', 'Prices', ...</td>\n",
       "      <td>0.0</td>\n",
       "      <td>1</td>\n",
       "    </tr>\n",
       "    <tr>\n",
       "      <th>680</th>\n",
       "      <td>post</td>\n",
       "      <td>2025-04-07 09:01:48</td>\n",
       "      <td>1jtgtfv</td>\n",
       "      <td>stockstobuytoday</td>\n",
       "      <td>World Markets</td>\n",
       "      <td>AutoModerator</td>\n",
       "      <td>https://www.reddit.com/r/stockstobuytoday/comm...</td>\n",
       "      <td>1</td>\n",
       "      <td>0.0</td>\n",
       "      <td>1.0</td>\n",
       "      <td>\\n\\n  [World Markets (stockbuyvest.com)]()</td>\n",
       "      <td>0.000000</td>\n",
       "      <td>0.0000</td>\n",
       "      <td>0.0</td>\n",
       "      <td>[']', 'World', 'stockbuyvest.com', 'Markets']</td>\n",
       "      <td>0.0</td>\n",
       "      <td>1</td>\n",
       "    </tr>\n",
       "    <tr>\n",
       "      <th>697</th>\n",
       "      <td>post</td>\n",
       "      <td>2025-03-27 18:14:09</td>\n",
       "      <td>1jlakld</td>\n",
       "      <td>stockstobuytoday</td>\n",
       "      <td>FINRA Daily Shorts Data</td>\n",
       "      <td>saasfin</td>\n",
       "      <td>https://www.reddit.com/r/stockstobuytoday/comm...</td>\n",
       "      <td>1</td>\n",
       "      <td>0.0</td>\n",
       "      <td>1.0</td>\n",
       "      <td>Updated Daily by EOD\\n\\n  \\n[Daily Shorts]()</td>\n",
       "      <td>0.100000</td>\n",
       "      <td>0.0000</td>\n",
       "      <td>0.0</td>\n",
       "      <td>['EOD', 'Daily', 'Shorts', ']', '[']</td>\n",
       "      <td>0.0</td>\n",
       "      <td>1</td>\n",
       "    </tr>\n",
       "    <tr>\n",
       "      <th>712</th>\n",
       "      <td>post</td>\n",
       "      <td>2025-04-01 09:01:38</td>\n",
       "      <td>1jor3aj</td>\n",
       "      <td>stockstobuytoday</td>\n",
       "      <td>World Markets</td>\n",
       "      <td>AutoModerator</td>\n",
       "      <td>https://www.reddit.com/r/stockstobuytoday/comm...</td>\n",
       "      <td>1</td>\n",
       "      <td>0.0</td>\n",
       "      <td>1.0</td>\n",
       "      <td>\\n\\n  [World Markets (stockbuyvest.com)]()</td>\n",
       "      <td>0.000000</td>\n",
       "      <td>0.0000</td>\n",
       "      <td>0.0</td>\n",
       "      <td>[']', 'World', 'stockbuyvest.com', 'Markets']</td>\n",
       "      <td>0.0</td>\n",
       "      <td>1</td>\n",
       "    </tr>\n",
       "    <tr>\n",
       "      <th>717</th>\n",
       "      <td>post</td>\n",
       "      <td>2025-03-26 16:01:01</td>\n",
       "      <td>1jkf91n</td>\n",
       "      <td>stockstobuytoday</td>\n",
       "      <td>Crypto Gainers - Coinbase</td>\n",
       "      <td>AutoModerator</td>\n",
       "      <td>https://www.reddit.com/r/stockstobuytoday/comm...</td>\n",
       "      <td>1</td>\n",
       "      <td>0.0</td>\n",
       "      <td>1.0</td>\n",
       "      <td>&amp;#x200B;\\n\\n [Cryptocurrency Prices, Charts, D...</td>\n",
       "      <td>0.000000</td>\n",
       "      <td>0.0000</td>\n",
       "      <td>0.0</td>\n",
       "      <td>[']', 'Daily', 'Charts', 'PEPEUSD', 'Prices', ...</td>\n",
       "      <td>0.0</td>\n",
       "      <td>1</td>\n",
       "    </tr>\n",
       "    <tr>\n",
       "      <th>783</th>\n",
       "      <td>post</td>\n",
       "      <td>2025-03-31 13:54:38</td>\n",
       "      <td>1jo3qsz</td>\n",
       "      <td>stockstobuytoday</td>\n",
       "      <td>Gappers (Up/Down)</td>\n",
       "      <td>saasfin</td>\n",
       "      <td>https://www.reddit.com/r/stockstobuytoday/comm...</td>\n",
       "      <td>1</td>\n",
       "      <td>0.0</td>\n",
       "      <td>1.0</td>\n",
       "      <td>Gappers for today\\n\\n [Gappers (stockbuyvest.c...</td>\n",
       "      <td>0.000000</td>\n",
       "      <td>0.0000</td>\n",
       "      <td>0.0</td>\n",
       "      <td>['Gappers', 'stockbuyvest.com', ']', 'today', ...</td>\n",
       "      <td>0.0</td>\n",
       "      <td>1</td>\n",
       "    </tr>\n",
       "    <tr>\n",
       "      <th>786</th>\n",
       "      <td>post</td>\n",
       "      <td>2025-04-03 12:30:39</td>\n",
       "      <td>1jqh5xb</td>\n",
       "      <td>stockstobuytoday</td>\n",
       "      <td>Analyst Recommendations</td>\n",
       "      <td>saasfin</td>\n",
       "      <td>https://www.reddit.com/r/stockstobuytoday/comm...</td>\n",
       "      <td>1</td>\n",
       "      <td>0.0</td>\n",
       "      <td>1.0</td>\n",
       "      <td>Upgrades, Downgrades\\n\\n [Stock Analyst Recomm...</td>\n",
       "      <td>0.000000</td>\n",
       "      <td>0.0000</td>\n",
       "      <td>0.0</td>\n",
       "      <td>['Analyst', 'Nasdaq', 'Stock', 'Upgrades', 'Do...</td>\n",
       "      <td>0.0</td>\n",
       "      <td>1</td>\n",
       "    </tr>\n",
       "    <tr>\n",
       "      <th>802</th>\n",
       "      <td>post</td>\n",
       "      <td>2025-04-02 13:54:36</td>\n",
       "      <td>1jpp50o</td>\n",
       "      <td>stockstobuytoday</td>\n",
       "      <td>Gappers (Up/Down)</td>\n",
       "      <td>saasfin</td>\n",
       "      <td>https://www.reddit.com/r/stockstobuytoday/comm...</td>\n",
       "      <td>1</td>\n",
       "      <td>0.0</td>\n",
       "      <td>1.0</td>\n",
       "      <td>Gappers for today\\n\\n [Gappers (stockbuyvest.c...</td>\n",
       "      <td>0.000000</td>\n",
       "      <td>0.0000</td>\n",
       "      <td>0.0</td>\n",
       "      <td>['Gappers', 'stockbuyvest.com', ']', 'today', ...</td>\n",
       "      <td>0.0</td>\n",
       "      <td>1</td>\n",
       "    </tr>\n",
       "    <tr>\n",
       "      <th>836</th>\n",
       "      <td>post</td>\n",
       "      <td>2025-03-26 12:18:30</td>\n",
       "      <td>1jkadvn</td>\n",
       "      <td>stockstobuytoday</td>\n",
       "      <td>Futures Market</td>\n",
       "      <td>saasfin</td>\n",
       "      <td>https://www.reddit.com/r/stockstobuytoday/comm...</td>\n",
       "      <td>1</td>\n",
       "      <td>0.0</td>\n",
       "      <td>1.0</td>\n",
       "      <td>how does the futures market look today\\n\\nSPY,...</td>\n",
       "      <td>0.377083</td>\n",
       "      <td>0.0625</td>\n",
       "      <td>1.0</td>\n",
       "      <td>['Natural', 'stockbuyvest.com', 'Gold', 'marke...</td>\n",
       "      <td>0.0</td>\n",
       "      <td>1</td>\n",
       "    </tr>\n",
       "    <tr>\n",
       "      <th>844</th>\n",
       "      <td>post</td>\n",
       "      <td>2025-03-24 12:30:39</td>\n",
       "      <td>1jipi4v</td>\n",
       "      <td>stockstobuytoday</td>\n",
       "      <td>Analyst Recommendations</td>\n",
       "      <td>saasfin</td>\n",
       "      <td>https://www.reddit.com/r/stockstobuytoday/comm...</td>\n",
       "      <td>1</td>\n",
       "      <td>0.0</td>\n",
       "      <td>1.0</td>\n",
       "      <td>Upgrades, Downgrades\\n\\n [Stock Analyst Recomm...</td>\n",
       "      <td>0.000000</td>\n",
       "      <td>0.0000</td>\n",
       "      <td>0.0</td>\n",
       "      <td>['Analyst', 'Nasdaq', 'Stock', 'Upgrades', 'Do...</td>\n",
       "      <td>0.0</td>\n",
       "      <td>1</td>\n",
       "    </tr>\n",
       "  </tbody>\n",
       "</table>\n",
       "</div>"
      ],
      "text/plain": [
       "        type            datetime  post_id         subreddit  \\\n",
       "34   comment 2021-02-01 13:45:52  gllif2v            stocks   \n",
       "42   comment 2021-02-01 13:45:17  gllicpw            stocks   \n",
       "70      post 2025-03-29 18:14:28  1jmshlc  stockstobuytoday   \n",
       "105     post 2025-04-04 09:01:07  1jr7fe1  stockstobuytoday   \n",
       "159     post 2025-04-11 13:54:31  1jwqgce  stockstobuytoday   \n",
       "160     post 2025-04-03 12:18:32  1jqgwyz  stockstobuytoday   \n",
       "179     post 2025-03-25 15:47:42  1jjmipo  stockstobuytoday   \n",
       "192     post 2025-03-21 21:15:20  1jgrs02  stockstobuytoday   \n",
       "284     post 2025-04-06 16:00:59  1jsxft7  stockstobuytoday   \n",
       "349     post 2025-03-22 18:14:30  1jhestv  stockstobuytoday   \n",
       "352     post 2025-04-08 12:18:30  1juc5fs  stockstobuytoday   \n",
       "387     post 2025-03-24 15:47:30  1jituo3  stockstobuytoday   \n",
       "409     post 2025-03-25 12:30:39  1jji7cr  stockstobuytoday   \n",
       "421     post 2025-03-31 14:05:30  1jo3zpc  stockstobuytoday   \n",
       "432     post 2025-04-11 16:01:14  1jwtejt  stockstobuytoday   \n",
       "438     post 2025-03-25 21:15:31  1jjukvz  stockstobuytoday   \n",
       "462     post 2025-04-11 15:47:01  1jwt2cq  stockstobuytoday   \n",
       "473     post 2025-03-28 12:18:29  1jltpwb  stockstobuytoday   \n",
       "494     post 2025-04-03 15:20:31  1jql8hg  stockstobuytoday   \n",
       "520     post 2025-03-25 18:14:13  1jjq3m5  stockstobuytoday   \n",
       "541     post 2025-03-31 15:20:30  1jo5plj  stockstobuytoday   \n",
       "583     post 2025-03-21 14:05:32  1jghlrf  stockstobuytoday   \n",
       "588     post 2025-03-31 15:47:40  1jo6cp3  stockstobuytoday   \n",
       "595     post 2025-03-31 16:00:55  1jo6nzr  stockstobuytoday   \n",
       "679     post 2025-03-29 16:00:54  1jmphcr  stockstobuytoday   \n",
       "680     post 2025-04-07 09:01:48  1jtgtfv  stockstobuytoday   \n",
       "697     post 2025-03-27 18:14:09  1jlakld  stockstobuytoday   \n",
       "712     post 2025-04-01 09:01:38  1jor3aj  stockstobuytoday   \n",
       "717     post 2025-03-26 16:01:01  1jkf91n  stockstobuytoday   \n",
       "783     post 2025-03-31 13:54:38  1jo3qsz  stockstobuytoday   \n",
       "786     post 2025-04-03 12:30:39  1jqh5xb  stockstobuytoday   \n",
       "802     post 2025-04-02 13:54:36  1jpp50o  stockstobuytoday   \n",
       "836     post 2025-03-26 12:18:30  1jkadvn  stockstobuytoday   \n",
       "844     post 2025-03-24 12:30:39  1jipi4v  stockstobuytoday   \n",
       "\n",
       "                                                 title         author  \\\n",
       "34   It's fucking awful seeing the \"Silver\" misinfo...   SmithRune735   \n",
       "42   It's fucking awful seeing the \"Silver\" misinfo...   SmithRune735   \n",
       "70                             FINRA Daily Shorts Data        saasfin   \n",
       "105                                      World Markets  AutoModerator   \n",
       "159                                  Gappers (Up/Down)        saasfin   \n",
       "160                                     Futures Market        saasfin   \n",
       "179                                     Dark Pool Data        saasfin   \n",
       "192                        Commitment of Trader Report        saasfin   \n",
       "284                          Crypto Gainers - Coinbase  AutoModerator   \n",
       "349                            FINRA Daily Shorts Data        saasfin   \n",
       "352                                     Futures Market        saasfin   \n",
       "387                                     Dark Pool Data        saasfin   \n",
       "409                            Analyst Recommendations        saasfin   \n",
       "421                            Stock Gainers for Today        saasfin   \n",
       "432                          Crypto Gainers - Coinbase  AutoModerator   \n",
       "438                        Commitment of Trader Report        saasfin   \n",
       "462                                     Dark Pool Data        saasfin   \n",
       "473                                     Futures Market        saasfin   \n",
       "494             Threshold Securities -aka Naked Shorts        saasfin   \n",
       "520                            FINRA Daily Shorts Data        saasfin   \n",
       "541             Threshold Securities -aka Naked Shorts        saasfin   \n",
       "583                            Stock Gainers for Today        saasfin   \n",
       "588                                     Dark Pool Data        saasfin   \n",
       "595                          Crypto Gainers - Coinbase  AutoModerator   \n",
       "679                          Crypto Gainers - Coinbase  AutoModerator   \n",
       "680                                      World Markets  AutoModerator   \n",
       "697                            FINRA Daily Shorts Data        saasfin   \n",
       "712                                      World Markets  AutoModerator   \n",
       "717                          Crypto Gainers - Coinbase  AutoModerator   \n",
       "783                                  Gappers (Up/Down)        saasfin   \n",
       "786                            Analyst Recommendations        saasfin   \n",
       "802                                  Gappers (Up/Down)        saasfin   \n",
       "836                                     Futures Market        saasfin   \n",
       "844                            Analyst Recommendations        saasfin   \n",
       "\n",
       "                                                   url  upvotes  downvotes  \\\n",
       "34   https://www.reddit.com/r/stocks/comments/la34b...        1        NaN   \n",
       "42   https://www.reddit.com/r/stocks/comments/la34b...     3943        NaN   \n",
       "70   https://www.reddit.com/r/stockstobuytoday/comm...        1        0.0   \n",
       "105  https://www.reddit.com/r/stockstobuytoday/comm...        1        0.0   \n",
       "159  https://www.reddit.com/r/stockstobuytoday/comm...        1        0.0   \n",
       "160  https://www.reddit.com/r/stockstobuytoday/comm...        1        0.0   \n",
       "179  https://www.reddit.com/r/stockstobuytoday/comm...        1        0.0   \n",
       "192  https://www.reddit.com/r/stockstobuytoday/comm...        1        0.0   \n",
       "284  https://www.reddit.com/r/stockstobuytoday/comm...        1        0.0   \n",
       "349  https://www.reddit.com/r/stockstobuytoday/comm...        1        0.0   \n",
       "352  https://www.reddit.com/r/stockstobuytoday/comm...        1        0.0   \n",
       "387  https://www.reddit.com/r/stockstobuytoday/comm...        1        0.0   \n",
       "409  https://www.reddit.com/r/stockstobuytoday/comm...        1        0.0   \n",
       "421  https://www.reddit.com/r/stockstobuytoday/comm...        1        0.0   \n",
       "432  https://www.reddit.com/r/stockstobuytoday/comm...        1        0.0   \n",
       "438  https://www.reddit.com/r/stockstobuytoday/comm...        1        0.0   \n",
       "462  https://www.reddit.com/r/stockstobuytoday/comm...        1        0.0   \n",
       "473  https://www.reddit.com/r/stockstobuytoday/comm...        1        0.0   \n",
       "494  https://www.reddit.com/r/stockstobuytoday/comm...        1        0.0   \n",
       "520  https://www.reddit.com/r/stockstobuytoday/comm...        1        0.0   \n",
       "541  https://www.reddit.com/r/stockstobuytoday/comm...        1        0.0   \n",
       "583  https://www.reddit.com/r/stockstobuytoday/comm...        2        0.0   \n",
       "588  https://www.reddit.com/r/stockstobuytoday/comm...        1        0.0   \n",
       "595  https://www.reddit.com/r/stockstobuytoday/comm...        1        0.0   \n",
       "679  https://www.reddit.com/r/stockstobuytoday/comm...        1        0.0   \n",
       "680  https://www.reddit.com/r/stockstobuytoday/comm...        1        0.0   \n",
       "697  https://www.reddit.com/r/stockstobuytoday/comm...        1        0.0   \n",
       "712  https://www.reddit.com/r/stockstobuytoday/comm...        1        0.0   \n",
       "717  https://www.reddit.com/r/stockstobuytoday/comm...        1        0.0   \n",
       "783  https://www.reddit.com/r/stockstobuytoday/comm...        1        0.0   \n",
       "786  https://www.reddit.com/r/stockstobuytoday/comm...        1        0.0   \n",
       "802  https://www.reddit.com/r/stockstobuytoday/comm...        1        0.0   \n",
       "836  https://www.reddit.com/r/stockstobuytoday/comm...        1        0.0   \n",
       "844  https://www.reddit.com/r/stockstobuytoday/comm...        1        0.0   \n",
       "\n",
       "     upvote_ratio                                               text  \\\n",
       "34            NaN  So they went from saying redditors are bad for...   \n",
       "42            NaN  So they went from saying redditors are bad for...   \n",
       "70            1.0       Updated Daily by EOD\\n\\n  \\n[Daily Shorts]()   \n",
       "105           1.0         \\n\\n  [World Markets (stockbuyvest.com)]()   \n",
       "159           1.0  Gappers for today\\n\\n [Gappers (stockbuyvest.c...   \n",
       "160           1.0  how does the futures market look today\\n\\nSPY,...   \n",
       "179           1.0  This data is from FINRA ATS - Updated Weekly\\n...   \n",
       "192           1.0  Summarized with Highlights, updated weekly be ...   \n",
       "284           1.0  &#x200B;\\n\\n [Cryptocurrency Prices, Charts, D...   \n",
       "349           1.0       Updated Daily by EOD\\n\\n  \\n[Daily Shorts]()   \n",
       "352           1.0  how does the futures market look today\\n\\nSPY,...   \n",
       "387           1.0  This data is from FINRA ATS - Updated Weekly\\n...   \n",
       "409           1.0  Upgrades, Downgrades\\n\\n [Stock Analyst Recomm...   \n",
       "421           1.0  Stocks that are trending up today\\n\\n [Popping...   \n",
       "432           1.0  &#x200B;\\n\\n [Cryptocurrency Prices, Charts, D...   \n",
       "438           1.0  Summarized with Highlights, updated weekly be ...   \n",
       "462           1.0  This data is from FINRA ATS - Updated Weekly\\n...   \n",
       "473           1.0  how does the futures market look today\\n\\nSPY,...   \n",
       "494           1.0  \\n\\n [Threshold (stockbuyvest.com)]() \\n\\n$AMC...   \n",
       "520           1.0       Updated Daily by EOD\\n\\n  \\n[Daily Shorts]()   \n",
       "541           1.0  \\n\\n [Threshold (stockbuyvest.com)]() \\n\\n$AMC...   \n",
       "583           1.0  Stocks that are trending up today\\n\\n [Popping...   \n",
       "588           1.0  This data is from FINRA ATS - Updated Weekly\\n...   \n",
       "595           1.0  &#x200B;\\n\\n [Cryptocurrency Prices, Charts, D...   \n",
       "679           1.0  &#x200B;\\n\\n [Cryptocurrency Prices, Charts, D...   \n",
       "680           1.0         \\n\\n  [World Markets (stockbuyvest.com)]()   \n",
       "697           1.0       Updated Daily by EOD\\n\\n  \\n[Daily Shorts]()   \n",
       "712           1.0         \\n\\n  [World Markets (stockbuyvest.com)]()   \n",
       "717           1.0  &#x200B;\\n\\n [Cryptocurrency Prices, Charts, D...   \n",
       "783           1.0  Gappers for today\\n\\n [Gappers (stockbuyvest.c...   \n",
       "786           1.0  Upgrades, Downgrades\\n\\n [Stock Analyst Recomm...   \n",
       "802           1.0  Gappers for today\\n\\n [Gappers (stockbuyvest.c...   \n",
       "836           1.0  how does the futures market look today\\n\\nSPY,...   \n",
       "844           1.0  Upgrades, Downgrades\\n\\n [Stock Analyst Recomm...   \n",
       "\n",
       "     subjectivity  polarity  sentiment  \\\n",
       "34       0.666667   -0.7000       -1.0   \n",
       "42       0.666667   -0.7000       -1.0   \n",
       "70       0.100000    0.0000        0.0   \n",
       "105      0.000000    0.0000        0.0   \n",
       "159      0.000000    0.0000        0.0   \n",
       "160      0.377083    0.0625        1.0   \n",
       "179      0.000000    0.0000        0.0   \n",
       "192      0.000000    0.0000        0.0   \n",
       "284      0.000000    0.0000        0.0   \n",
       "349      0.100000    0.0000        0.0   \n",
       "352      0.377083    0.0625        1.0   \n",
       "387      0.000000    0.0000        0.0   \n",
       "409      0.000000    0.0000        0.0   \n",
       "421      0.000000    0.0000        0.0   \n",
       "432      0.000000    0.0000        0.0   \n",
       "438      0.000000    0.0000        0.0   \n",
       "462      0.000000    0.0000        0.0   \n",
       "473      0.377083    0.0625        1.0   \n",
       "494      0.000000    0.0000        0.0   \n",
       "520      0.100000    0.0000        0.0   \n",
       "541      0.000000    0.0000        0.0   \n",
       "583      0.000000    0.0000        0.0   \n",
       "588      0.000000    0.0000        0.0   \n",
       "595      0.000000    0.0000        0.0   \n",
       "679      0.000000    0.0000        0.0   \n",
       "680      0.000000    0.0000        0.0   \n",
       "697      0.100000    0.0000        0.0   \n",
       "712      0.000000    0.0000        0.0   \n",
       "717      0.000000    0.0000        0.0   \n",
       "783      0.000000    0.0000        0.0   \n",
       "786      0.000000    0.0000        0.0   \n",
       "802      0.000000    0.0000        0.0   \n",
       "836      0.377083    0.0625        1.0   \n",
       "844      0.000000    0.0000        0.0   \n",
       "\n",
       "                                              entities  label  is_post  \n",
       "34                                ['market', 'silver']    1.0        0  \n",
       "42                                ['market', 'silver']    1.0        0  \n",
       "70                ['EOD', 'Daily', 'Shorts', ']', '[']    0.0        1  \n",
       "105      [']', 'World', 'stockbuyvest.com', 'Markets']    0.0        1  \n",
       "159  ['Gappers', 'stockbuyvest.com', ']', 'today', ...    0.0        1  \n",
       "160  ['Natural', 'stockbuyvest.com', 'Gold', 'marke...    0.0        1  \n",
       "179  ['FINRA', 'data', 'ATS', 'FINRA ATS - Updated'...    0.0        1  \n",
       "192  [']', 'Highlights', 'Report', 'EOW', 'Summary'...    0.0        1  \n",
       "284  [']', 'Daily', 'Charts', 'PEPEUSD', 'Prices', ...    0.0        1  \n",
       "349               ['EOD', 'Daily', 'Shorts', ']', '[']    0.0        1  \n",
       "352  ['Natural', 'stockbuyvest.com', 'Gold', 'marke...    0.0        1  \n",
       "387  ['FINRA', 'data', 'ATS', 'FINRA ATS - Updated'...    0.0        1  \n",
       "409  ['Analyst', 'Nasdaq', 'Stock', 'Upgrades', 'Do...    0.0        1  \n",
       "421      [']', 'Popping', 'stockbuyvest.com', 'today']    0.0        1  \n",
       "432  [']', 'Daily', 'Charts', 'PEPEUSD', 'Prices', ...    0.0        1  \n",
       "438  [']', 'Highlights', 'Report', 'EOW', 'Summary'...    0.0        1  \n",
       "462  ['FINRA', 'data', 'ATS', 'FINRA ATS - Updated'...    0.0        1  \n",
       "473  ['Natural', 'stockbuyvest.com', 'Gold', 'marke...    0.0        1  \n",
       "494  ['INTC', 'NVDA', 'GME', 'CVNA', 'Threshold', '...    0.0        1  \n",
       "520               ['EOD', 'Daily', 'Shorts', ']', '[']    0.0        1  \n",
       "541  ['INTC', 'NVDA', 'GME', 'CVNA', 'Threshold', '...    0.0        1  \n",
       "583      [']', 'Popping', 'stockbuyvest.com', 'today']    0.0        1  \n",
       "588  ['FINRA', 'data', 'ATS', 'FINRA ATS - Updated'...    0.0        1  \n",
       "595  [']', 'Daily', 'Charts', 'PEPEUSD', 'Prices', ...    0.0        1  \n",
       "679  [']', 'Daily', 'Charts', 'PEPEUSD', 'Prices', ...    0.0        1  \n",
       "680      [']', 'World', 'stockbuyvest.com', 'Markets']    0.0        1  \n",
       "697               ['EOD', 'Daily', 'Shorts', ']', '[']    0.0        1  \n",
       "712      [']', 'World', 'stockbuyvest.com', 'Markets']    0.0        1  \n",
       "717  [']', 'Daily', 'Charts', 'PEPEUSD', 'Prices', ...    0.0        1  \n",
       "783  ['Gappers', 'stockbuyvest.com', ']', 'today', ...    0.0        1  \n",
       "786  ['Analyst', 'Nasdaq', 'Stock', 'Upgrades', 'Do...    0.0        1  \n",
       "802  ['Gappers', 'stockbuyvest.com', ']', 'today', ...    0.0        1  \n",
       "836  ['Natural', 'stockbuyvest.com', 'Gold', 'marke...    0.0        1  \n",
       "844  ['Analyst', 'Nasdaq', 'Stock', 'Upgrades', 'Do...    0.0        1  "
      ]
     },
     "metadata": {},
     "output_type": "display_data"
    }
   ],
   "source": [
    "# Show all columns for rows with duplicated 'text'\n",
    "duplicated_texts = Reddit[Reddit['text'].duplicated(keep=False)]\n",
    "display(duplicated_texts)"
   ]
  },
  {
   "cell_type": "code",
   "execution_count": 160,
   "metadata": {},
   "outputs": [
    {
     "data": {
      "text/html": [
       "<div>\n",
       "<style scoped>\n",
       "    .dataframe tbody tr th:only-of-type {\n",
       "        vertical-align: middle;\n",
       "    }\n",
       "\n",
       "    .dataframe tbody tr th {\n",
       "        vertical-align: top;\n",
       "    }\n",
       "\n",
       "    .dataframe thead th {\n",
       "        text-align: right;\n",
       "    }\n",
       "</style>\n",
       "<table border=\"1\" class=\"dataframe\">\n",
       "  <thead>\n",
       "    <tr style=\"text-align: right;\">\n",
       "      <th></th>\n",
       "      <th>type</th>\n",
       "      <th>datetime</th>\n",
       "      <th>post_id</th>\n",
       "      <th>subreddit</th>\n",
       "      <th>title</th>\n",
       "      <th>author</th>\n",
       "      <th>url</th>\n",
       "      <th>upvotes</th>\n",
       "      <th>downvotes</th>\n",
       "      <th>upvote_ratio</th>\n",
       "      <th>text</th>\n",
       "      <th>subjectivity</th>\n",
       "      <th>polarity</th>\n",
       "      <th>sentiment</th>\n",
       "      <th>entities</th>\n",
       "      <th>label</th>\n",
       "      <th>is_post</th>\n",
       "    </tr>\n",
       "  </thead>\n",
       "  <tbody>\n",
       "  </tbody>\n",
       "</table>\n",
       "</div>"
      ],
      "text/plain": [
       "Empty DataFrame\n",
       "Columns: [type, datetime, post_id, subreddit, title, author, url, upvotes, downvotes, upvote_ratio, text, subjectivity, polarity, sentiment, entities, label, is_post]\n",
       "Index: []"
      ]
     },
     "metadata": {},
     "output_type": "display_data"
    }
   ],
   "source": [
    "# Show all columns for rows where both 'datetime' and 'text' are duplicated together\n",
    "duplicated_dt_text = Reddit[Reddit.duplicated(subset=['datetime', 'text'], keep=False)]\n",
    "display(duplicated_dt_text)"
   ]
  },
  {
   "cell_type": "markdown",
   "metadata": {},
   "source": [
    "Althought there are 23 duplicate 'text', their 'datatime' is different. Since that might be the feature of the data (not wrong collection), i decided keep them."
   ]
  },
  {
   "cell_type": "markdown",
   "metadata": {},
   "source": [
    "#### 5. Data Preprocessing"
   ]
  },
  {
   "cell_type": "markdown",
   "metadata": {},
   "source": [
    "##### 5.1 Sampling"
   ]
  },
  {
   "cell_type": "code",
   "execution_count": 82,
   "metadata": {},
   "outputs": [
    {
     "data": {
      "text/html": [
       "<div>\n",
       "<style scoped>\n",
       "    .dataframe tbody tr th:only-of-type {\n",
       "        vertical-align: middle;\n",
       "    }\n",
       "\n",
       "    .dataframe tbody tr th {\n",
       "        vertical-align: top;\n",
       "    }\n",
       "\n",
       "    .dataframe thead th {\n",
       "        text-align: right;\n",
       "    }\n",
       "</style>\n",
       "<table border=\"1\" class=\"dataframe\">\n",
       "  <thead>\n",
       "    <tr style=\"text-align: right;\">\n",
       "      <th></th>\n",
       "      <th>type</th>\n",
       "      <th>datetime</th>\n",
       "      <th>post_id</th>\n",
       "      <th>subreddit</th>\n",
       "      <th>title</th>\n",
       "      <th>author</th>\n",
       "      <th>url</th>\n",
       "      <th>upvotes</th>\n",
       "      <th>downvotes</th>\n",
       "      <th>upvote_ratio</th>\n",
       "      <th>text</th>\n",
       "      <th>subjectivity</th>\n",
       "      <th>polarity</th>\n",
       "      <th>sentiment</th>\n",
       "      <th>entities</th>\n",
       "      <th>label</th>\n",
       "      <th>is_post</th>\n",
       "    </tr>\n",
       "  </thead>\n",
       "  <tbody>\n",
       "    <tr>\n",
       "      <th>457</th>\n",
       "      <td>comment</td>\n",
       "      <td>2025-04-11 15:42:58</td>\n",
       "      <td>mmkwda9</td>\n",
       "      <td>StockMarket</td>\n",
       "      <td>Trump: We Are Doing Really Well On Our Tariff ...</td>\n",
       "      <td>IamNotaMonkeyRobot</td>\n",
       "      <td>https://i.redd.it/uajqu4kxl7ue1.png</td>\n",
       "      <td>1</td>\n",
       "      <td>NaN</td>\n",
       "      <td>NaN</td>\n",
       "      <td>\"We\" who?</td>\n",
       "      <td>0.000000</td>\n",
       "      <td>0.000000</td>\n",
       "      <td>0.0</td>\n",
       "      <td>[]</td>\n",
       "      <td>0.0</td>\n",
       "      <td>0</td>\n",
       "    </tr>\n",
       "    <tr>\n",
       "      <th>342</th>\n",
       "      <td>comment</td>\n",
       "      <td>2025-04-12 03:04:05</td>\n",
       "      <td>mmob98a</td>\n",
       "      <td>wallstreetbets</td>\n",
       "      <td>Retail giant TARGET has now declined for 10 co...</td>\n",
       "      <td>iPlayedHockeInHS</td>\n",
       "      <td>https://i.redd.it/7tl6puv9waue1.jpeg</td>\n",
       "      <td>1</td>\n",
       "      <td>NaN</td>\n",
       "      <td>NaN</td>\n",
       "      <td>Chicken jockey</td>\n",
       "      <td>0.950000</td>\n",
       "      <td>-0.600000</td>\n",
       "      <td>-1.0</td>\n",
       "      <td>['jockey', 'Chicken']</td>\n",
       "      <td>0.0</td>\n",
       "      <td>0</td>\n",
       "    </tr>\n",
       "    <tr>\n",
       "      <th>280</th>\n",
       "      <td>comment</td>\n",
       "      <td>2025-04-10 14:40:26</td>\n",
       "      <td>mme8wxn</td>\n",
       "      <td>StockMarket</td>\n",
       "      <td>How do you feel about a sitting president maki...</td>\n",
       "      <td>Narradisall</td>\n",
       "      <td>https://apnews.com/article/trump-truth-social-...</td>\n",
       "      <td>2</td>\n",
       "      <td>NaN</td>\n",
       "      <td>NaN</td>\n",
       "      <td>Not great Bob</td>\n",
       "      <td>0.750000</td>\n",
       "      <td>0.800000</td>\n",
       "      <td>1.0</td>\n",
       "      <td>['Bob']</td>\n",
       "      <td>-1.0</td>\n",
       "      <td>0</td>\n",
       "    </tr>\n",
       "    <tr>\n",
       "      <th>275</th>\n",
       "      <td>comment</td>\n",
       "      <td>2025-04-12 02:27:29</td>\n",
       "      <td>mmo5u51</td>\n",
       "      <td>wallstreetbets</td>\n",
       "      <td>Retail giant TARGET has now declined for 10 co...</td>\n",
       "      <td>ChristianLS</td>\n",
       "      <td>https://i.redd.it/7tl6puv9waue1.jpeg</td>\n",
       "      <td>1</td>\n",
       "      <td>NaN</td>\n",
       "      <td>NaN</td>\n",
       "      <td>Speak for yourself, my wife is being harder on...</td>\n",
       "      <td>0.633333</td>\n",
       "      <td>0.633333</td>\n",
       "      <td>1.0</td>\n",
       "      <td>['BBQ', 'potato', 'anime', 'wife', 'level', 'S...</td>\n",
       "      <td>0.0</td>\n",
       "      <td>0</td>\n",
       "    </tr>\n",
       "    <tr>\n",
       "      <th>843</th>\n",
       "      <td>comment</td>\n",
       "      <td>2025-04-11 05:01:24</td>\n",
       "      <td>mmijiuz</td>\n",
       "      <td>StockMarket</td>\n",
       "      <td>$ U.S. dollar value (crashing)</td>\n",
       "      <td>lulububudu</td>\n",
       "      <td>https://i.redd.it/atvlo83gk4ue1.jpeg</td>\n",
       "      <td>2</td>\n",
       "      <td>NaN</td>\n",
       "      <td>NaN</td>\n",
       "      <td>Where can I read this?</td>\n",
       "      <td>0.000000</td>\n",
       "      <td>0.000000</td>\n",
       "      <td>0.0</td>\n",
       "      <td>[]</td>\n",
       "      <td>0.0</td>\n",
       "      <td>0</td>\n",
       "    </tr>\n",
       "  </tbody>\n",
       "</table>\n",
       "</div>"
      ],
      "text/plain": [
       "        type            datetime  post_id       subreddit  \\\n",
       "457  comment 2025-04-11 15:42:58  mmkwda9     StockMarket   \n",
       "342  comment 2025-04-12 03:04:05  mmob98a  wallstreetbets   \n",
       "280  comment 2025-04-10 14:40:26  mme8wxn     StockMarket   \n",
       "275  comment 2025-04-12 02:27:29  mmo5u51  wallstreetbets   \n",
       "843  comment 2025-04-11 05:01:24  mmijiuz     StockMarket   \n",
       "\n",
       "                                                 title              author  \\\n",
       "457  Trump: We Are Doing Really Well On Our Tariff ...  IamNotaMonkeyRobot   \n",
       "342  Retail giant TARGET has now declined for 10 co...    iPlayedHockeInHS   \n",
       "280  How do you feel about a sitting president maki...         Narradisall   \n",
       "275  Retail giant TARGET has now declined for 10 co...         ChristianLS   \n",
       "843                     $ U.S. dollar value (crashing)          lulububudu   \n",
       "\n",
       "                                                   url  upvotes  downvotes  \\\n",
       "457                https://i.redd.it/uajqu4kxl7ue1.png        1        NaN   \n",
       "342               https://i.redd.it/7tl6puv9waue1.jpeg        1        NaN   \n",
       "280  https://apnews.com/article/trump-truth-social-...        2        NaN   \n",
       "275               https://i.redd.it/7tl6puv9waue1.jpeg        1        NaN   \n",
       "843               https://i.redd.it/atvlo83gk4ue1.jpeg        2        NaN   \n",
       "\n",
       "     upvote_ratio                                               text  \\\n",
       "457           NaN                                          \"We\" who?   \n",
       "342           NaN                                     Chicken jockey   \n",
       "280           NaN                                      Not great Bob   \n",
       "275           NaN  Speak for yourself, my wife is being harder on...   \n",
       "843           NaN                             Where can I read this?   \n",
       "\n",
       "     subjectivity  polarity  sentiment  \\\n",
       "457      0.000000  0.000000        0.0   \n",
       "342      0.950000 -0.600000       -1.0   \n",
       "280      0.750000  0.800000        1.0   \n",
       "275      0.633333  0.633333        1.0   \n",
       "843      0.000000  0.000000        0.0   \n",
       "\n",
       "                                              entities  label  is_post  \n",
       "457                                                 []    0.0        0  \n",
       "342                              ['jockey', 'Chicken']    0.0        0  \n",
       "280                                            ['Bob']   -1.0        0  \n",
       "275  ['BBQ', 'potato', 'anime', 'wife', 'level', 'S...    0.0        0  \n",
       "843                                                 []    0.0        0  "
      ]
     },
     "execution_count": 82,
     "metadata": {},
     "output_type": "execute_result"
    }
   ],
   "source": [
    "Reddit_sample = Reddit.sample(n=500, random_state=42)\n",
    "Reddit_sample.head()"
   ]
  },
  {
   "cell_type": "code",
   "execution_count": 83,
   "metadata": {},
   "outputs": [
    {
     "name": "stdout",
     "output_type": "stream",
     "text": [
      "lenth of Reddit: 847\n",
      "lenth of Reddit_sample: 500\n"
     ]
    }
   ],
   "source": [
    "print(f\"lenth of Reddit: {len(Reddit)}\")\n",
    "print(f\"lenth of Reddit_sample: {len(Reddit_sample)}\")      \n"
   ]
  },
  {
   "cell_type": "code",
   "execution_count": 163,
   "metadata": {},
   "outputs": [
    {
     "name": "stdout",
     "output_type": "stream",
     "text": [
      "sentiment\n",
      " 0.0    205\n",
      " 1.0    186\n",
      "-1.0    109\n",
      "Name: count, dtype: int64\n"
     ]
    }
   ],
   "source": [
    "# choose column 'sentiment' as target\n",
    "print(Reddit_sample.sentiment.value_counts())\n"
   ]
  },
  {
   "cell_type": "code",
   "execution_count": 84,
   "metadata": {},
   "outputs": [
    {
     "data": {
      "text/plain": [
       "<Axes: title={'center': 'Sentiment Distribution'}, xlabel='Sentiment', ylabel='Count'>"
      ]
     },
     "execution_count": 84,
     "metadata": {},
     "output_type": "execute_result"
    },
    {
     "data": {
      "image/png": "[encoded data removed]",
      "text/plain": [
       "<Figure size 640x480 with 1 Axes>"
      ]
     },
     "metadata": {},
     "output_type": "display_data"
    }
   ],
   "source": [
    "Reddit_sample.sentiment.value_counts().plot(kind='bar',\n",
    "                                     title='Sentiment Distribution',\n",
    "                                     ylim=[0, Reddit_sample.sentiment.value_counts().max() + 10],\n",
    "                                     xlabel='Sentiment',\n",
    "                                     ylabel='Count')"
   ]
  },
  {
   "cell_type": "code",
   "execution_count": 85,
   "metadata": {},
   "outputs": [
    {
     "data": {
      "text/plain": [
       "<Axes: title={'center': 'Sentiment Distribution Comparison'}, xlabel='Sentiment', ylabel='Count'>"
      ]
     },
     "execution_count": 85,
     "metadata": {},
     "output_type": "execute_result"
    },
    {
     "data": {
      "image/png": "[encoded data removed]",
      "text/plain": [
       "<Figure size 640x480 with 1 Axes>"
      ]
     },
     "metadata": {},
     "output_type": "display_data"
    }
   ],
   "source": [
    "# compare sentiment distribution between raw data and sample data\n",
    "raw_data = Reddit.sentiment.value_counts()\n",
    "sample_data = Reddit_sample.sentiment.value_counts()   \n",
    "\n",
    "df_compare = pd.DataFrame({\n",
    "    'Raw Data': raw_data, \n",
    "    'Sample Data': sample_data})\n",
    "df_compare.plot(\n",
    "    kind='bar', \n",
    "    title='Sentiment Distribution Comparison', \n",
    "    xlabel='Sentiment', ylabel='Count')\n"
   ]
  },
  {
   "cell_type": "markdown",
   "metadata": {},
   "source": [
    "##### 5.2 Feature Creation"
   ]
  },
  {
   "cell_type": "code",
   "execution_count": 88,
   "metadata": {},
   "outputs": [],
   "source": [
    "Reddit_sample['unigrams'] = Reddit_sample['text'].apply(lambda x: dmh.tokenize_text(x))"
   ]
  },
  {
   "cell_type": "code",
   "execution_count": 89,
   "metadata": {},
   "outputs": [
    {
     "data": {
      "text/plain": [
       "457                                 [``, We, '', who, ?]\n",
       "342                                    [Chicken, jockey]\n",
       "280                                    [Not, great, Bob]\n",
       "275    [Speak, for, yourself, ,, my, wife, is, being,...\n",
       "Name: unigrams, dtype: object"
      ]
     },
     "execution_count": 89,
     "metadata": {},
     "output_type": "execute_result"
    }
   ],
   "source": [
    "Reddit_sample[0:4][\"unigrams\"]"
   ]
  },
  {
   "cell_type": "code",
   "execution_count": 90,
   "metadata": {},
   "outputs": [
    {
     "data": {
      "text/html": [
       "<div>\n",
       "<style scoped>\n",
       "    .dataframe tbody tr th:only-of-type {\n",
       "        vertical-align: middle;\n",
       "    }\n",
       "\n",
       "    .dataframe tbody tr th {\n",
       "        vertical-align: top;\n",
       "    }\n",
       "\n",
       "    .dataframe thead th {\n",
       "        text-align: right;\n",
       "    }\n",
       "</style>\n",
       "<table border=\"1\" class=\"dataframe\">\n",
       "  <thead>\n",
       "    <tr style=\"text-align: right;\">\n",
       "      <th></th>\n",
       "      <th>type</th>\n",
       "      <th>datetime</th>\n",
       "      <th>post_id</th>\n",
       "      <th>subreddit</th>\n",
       "      <th>title</th>\n",
       "      <th>author</th>\n",
       "      <th>url</th>\n",
       "      <th>upvotes</th>\n",
       "      <th>downvotes</th>\n",
       "      <th>upvote_ratio</th>\n",
       "      <th>text</th>\n",
       "      <th>subjectivity</th>\n",
       "      <th>polarity</th>\n",
       "      <th>sentiment</th>\n",
       "      <th>entities</th>\n",
       "      <th>label</th>\n",
       "      <th>is_post</th>\n",
       "      <th>unigrams</th>\n",
       "    </tr>\n",
       "  </thead>\n",
       "  <tbody>\n",
       "    <tr>\n",
       "      <th>457</th>\n",
       "      <td>comment</td>\n",
       "      <td>2025-04-11 15:42:58</td>\n",
       "      <td>mmkwda9</td>\n",
       "      <td>StockMarket</td>\n",
       "      <td>Trump: We Are Doing Really Well On Our Tariff ...</td>\n",
       "      <td>IamNotaMonkeyRobot</td>\n",
       "      <td>https://i.redd.it/uajqu4kxl7ue1.png</td>\n",
       "      <td>1</td>\n",
       "      <td>NaN</td>\n",
       "      <td>NaN</td>\n",
       "      <td>\"We\" who?</td>\n",
       "      <td>0.000000</td>\n",
       "      <td>0.000000</td>\n",
       "      <td>0.0</td>\n",
       "      <td>[]</td>\n",
       "      <td>0.0</td>\n",
       "      <td>0</td>\n",
       "      <td>[``, We, '', who, ?]</td>\n",
       "    </tr>\n",
       "    <tr>\n",
       "      <th>342</th>\n",
       "      <td>comment</td>\n",
       "      <td>2025-04-12 03:04:05</td>\n",
       "      <td>mmob98a</td>\n",
       "      <td>wallstreetbets</td>\n",
       "      <td>Retail giant TARGET has now declined for 10 co...</td>\n",
       "      <td>iPlayedHockeInHS</td>\n",
       "      <td>https://i.redd.it/7tl6puv9waue1.jpeg</td>\n",
       "      <td>1</td>\n",
       "      <td>NaN</td>\n",
       "      <td>NaN</td>\n",
       "      <td>Chicken jockey</td>\n",
       "      <td>0.950000</td>\n",
       "      <td>-0.600000</td>\n",
       "      <td>-1.0</td>\n",
       "      <td>['jockey', 'Chicken']</td>\n",
       "      <td>0.0</td>\n",
       "      <td>0</td>\n",
       "      <td>[Chicken, jockey]</td>\n",
       "    </tr>\n",
       "    <tr>\n",
       "      <th>280</th>\n",
       "      <td>comment</td>\n",
       "      <td>2025-04-10 14:40:26</td>\n",
       "      <td>mme8wxn</td>\n",
       "      <td>StockMarket</td>\n",
       "      <td>How do you feel about a sitting president maki...</td>\n",
       "      <td>Narradisall</td>\n",
       "      <td>https://apnews.com/article/trump-truth-social-...</td>\n",
       "      <td>2</td>\n",
       "      <td>NaN</td>\n",
       "      <td>NaN</td>\n",
       "      <td>Not great Bob</td>\n",
       "      <td>0.750000</td>\n",
       "      <td>0.800000</td>\n",
       "      <td>1.0</td>\n",
       "      <td>['Bob']</td>\n",
       "      <td>-1.0</td>\n",
       "      <td>0</td>\n",
       "      <td>[Not, great, Bob]</td>\n",
       "    </tr>\n",
       "    <tr>\n",
       "      <th>275</th>\n",
       "      <td>comment</td>\n",
       "      <td>2025-04-12 02:27:29</td>\n",
       "      <td>mmo5u51</td>\n",
       "      <td>wallstreetbets</td>\n",
       "      <td>Retail giant TARGET has now declined for 10 co...</td>\n",
       "      <td>ChristianLS</td>\n",
       "      <td>https://i.redd.it/7tl6puv9waue1.jpeg</td>\n",
       "      <td>1</td>\n",
       "      <td>NaN</td>\n",
       "      <td>NaN</td>\n",
       "      <td>Speak for yourself, my wife is being harder on...</td>\n",
       "      <td>0.633333</td>\n",
       "      <td>0.633333</td>\n",
       "      <td>1.0</td>\n",
       "      <td>['BBQ', 'potato', 'anime', 'wife', 'level', 'S...</td>\n",
       "      <td>0.0</td>\n",
       "      <td>0</td>\n",
       "      <td>[Speak, for, yourself, ,, my, wife, is, being,...</td>\n",
       "    </tr>\n",
       "    <tr>\n",
       "      <th>843</th>\n",
       "      <td>comment</td>\n",
       "      <td>2025-04-11 05:01:24</td>\n",
       "      <td>mmijiuz</td>\n",
       "      <td>StockMarket</td>\n",
       "      <td>$ U.S. dollar value (crashing)</td>\n",
       "      <td>lulububudu</td>\n",
       "      <td>https://i.redd.it/atvlo83gk4ue1.jpeg</td>\n",
       "      <td>2</td>\n",
       "      <td>NaN</td>\n",
       "      <td>NaN</td>\n",
       "      <td>Where can I read this?</td>\n",
       "      <td>0.000000</td>\n",
       "      <td>0.000000</td>\n",
       "      <td>0.0</td>\n",
       "      <td>[]</td>\n",
       "      <td>0.0</td>\n",
       "      <td>0</td>\n",
       "      <td>[Where, can, I, read, this, ?]</td>\n",
       "    </tr>\n",
       "  </tbody>\n",
       "</table>\n",
       "</div>"
      ],
      "text/plain": [
       "        type            datetime  post_id       subreddit  \\\n",
       "457  comment 2025-04-11 15:42:58  mmkwda9     StockMarket   \n",
       "342  comment 2025-04-12 03:04:05  mmob98a  wallstreetbets   \n",
       "280  comment 2025-04-10 14:40:26  mme8wxn     StockMarket   \n",
       "275  comment 2025-04-12 02:27:29  mmo5u51  wallstreetbets   \n",
       "843  comment 2025-04-11 05:01:24  mmijiuz     StockMarket   \n",
       "\n",
       "                                                 title              author  \\\n",
       "457  Trump: We Are Doing Really Well On Our Tariff ...  IamNotaMonkeyRobot   \n",
       "342  Retail giant TARGET has now declined for 10 co...    iPlayedHockeInHS   \n",
       "280  How do you feel about a sitting president maki...         Narradisall   \n",
       "275  Retail giant TARGET has now declined for 10 co...         ChristianLS   \n",
       "843                     $ U.S. dollar value (crashing)          lulububudu   \n",
       "\n",
       "                                                   url  upvotes  downvotes  \\\n",
       "457                https://i.redd.it/uajqu4kxl7ue1.png        1        NaN   \n",
       "342               https://i.redd.it/7tl6puv9waue1.jpeg        1        NaN   \n",
       "280  https://apnews.com/article/trump-truth-social-...        2        NaN   \n",
       "275               https://i.redd.it/7tl6puv9waue1.jpeg        1        NaN   \n",
       "843               https://i.redd.it/atvlo83gk4ue1.jpeg        2        NaN   \n",
       "\n",
       "     upvote_ratio                                               text  \\\n",
       "457           NaN                                          \"We\" who?   \n",
       "342           NaN                                     Chicken jockey   \n",
       "280           NaN                                      Not great Bob   \n",
       "275           NaN  Speak for yourself, my wife is being harder on...   \n",
       "843           NaN                             Where can I read this?   \n",
       "\n",
       "     subjectivity  polarity  sentiment  \\\n",
       "457      0.000000  0.000000        0.0   \n",
       "342      0.950000 -0.600000       -1.0   \n",
       "280      0.750000  0.800000        1.0   \n",
       "275      0.633333  0.633333        1.0   \n",
       "843      0.000000  0.000000        0.0   \n",
       "\n",
       "                                              entities  label  is_post  \\\n",
       "457                                                 []    0.0        0   \n",
       "342                              ['jockey', 'Chicken']    0.0        0   \n",
       "280                                            ['Bob']   -1.0        0   \n",
       "275  ['BBQ', 'potato', 'anime', 'wife', 'level', 'S...    0.0        0   \n",
       "843                                                 []    0.0        0   \n",
       "\n",
       "                                              unigrams  \n",
       "457                               [``, We, '', who, ?]  \n",
       "342                                  [Chicken, jockey]  \n",
       "280                                  [Not, great, Bob]  \n",
       "275  [Speak, for, yourself, ,, my, wife, is, being,...  \n",
       "843                     [Where, can, I, read, this, ?]  "
      ]
     },
     "execution_count": 90,
     "metadata": {},
     "output_type": "execute_result"
    }
   ],
   "source": [
    "Reddit_sample.head()"
   ]
  },
  {
   "cell_type": "code",
   "execution_count": 99,
   "metadata": {},
   "outputs": [
    {
     "data": {
      "text/plain": [
       "[['``', 'We', \"''\", 'who', '?']]"
      ]
     },
     "execution_count": 99,
     "metadata": {},
     "output_type": "execute_result"
    }
   ],
   "source": [
    "list(Reddit_sample[0:1]['unigrams'])"
   ]
  },
  {
   "cell_type": "markdown",
   "metadata": {},
   "source": [
    "##### 5.3 Feature subset selection"
   ]
  },
  {
   "cell_type": "code",
   "execution_count": 165,
   "metadata": {},
   "outputs": [
    {
     "name": "stdout",
     "output_type": "stream",
     "text": [
      "  (np.int32(0), np.int32(3142))\t1\n",
      "  (np.int32(0), np.int32(3175))\t1\n"
     ]
    }
   ],
   "source": [
    "count_vect = CountVectorizer()\n",
    "Reddit_sample_counts = count_vect.fit_transform(Reddit_sample.text) #learn the vocabulary and return document-term matrix\n",
    "print(Reddit_sample_counts[0])"
   ]
  },
  {
   "cell_type": "code",
   "execution_count": 166,
   "metadata": {},
   "outputs": [
    {
     "data": {
      "text/plain": [
       "['we', 'who']"
      ]
     },
     "execution_count": 166,
     "metadata": {},
     "output_type": "execute_result"
    }
   ],
   "source": [
    "analyze = count_vect.build_analyzer()\n",
    "analyze(Reddit_sample.text[457])"
   ]
  },
  {
   "cell_type": "code",
   "execution_count": 106,
   "metadata": {},
   "outputs": [
    {
     "data": {
      "text/plain": [
       "(500, 3263)"
      ]
     },
     "execution_count": 106,
     "metadata": {},
     "output_type": "execute_result"
    }
   ],
   "source": [
    "Reddit_sample_counts.shape"
   ]
  },
  {
   "cell_type": "code",
   "execution_count": 109,
   "metadata": {},
   "outputs": [
    {
     "data": {
      "text/plain": [
       "array(['000', '01378', '02', '03', '08', '10', '100', '1000', '10000',\n",
       "       '100k'], dtype=object)"
      ]
     },
     "execution_count": 109,
     "metadata": {},
     "output_type": "execute_result"
    }
   ],
   "source": [
    "count_vect.get_feature_names_out()[0:10]\n"
   ]
  },
  {
   "cell_type": "code",
   "execution_count": 110,
   "metadata": {},
   "outputs": [
    {
     "data": {
      "text/plain": [
       "(500, 3263)"
      ]
     },
     "execution_count": 110,
     "metadata": {},
     "output_type": "execute_result"
    }
   ],
   "source": [
    "Reddit_sample_counts.shape"
   ]
  },
  {
   "cell_type": "code",
   "execution_count": 118,
   "metadata": {},
   "outputs": [
    {
     "data": {
      "text/plain": [
       "array([[0, 0, 0, 0, 0, 0, 0, 0, 0, 0, 0, 0, 0, 0, 0, 0, 0, 0, 0, 0, 0, 0,\n",
       "        0, 0, 0, 0, 0, 0, 0, 0, 0, 0, 0, 0, 0, 0, 0, 0, 0, 0, 0, 0, 0, 0,\n",
       "        0, 0, 0, 0, 0, 0, 0, 0, 0, 0, 0, 0, 0, 0, 0, 0, 0, 0, 0, 0, 0, 0,\n",
       "        0, 0, 0, 0, 0, 0, 0, 0, 0, 0, 0, 0, 0, 0, 0, 0, 0, 0, 0, 0, 0, 0,\n",
       "        0, 0, 0, 0, 0, 0, 0, 0, 0, 0, 0, 0, 0, 0, 0, 0, 0, 0, 0, 0, 0, 0,\n",
       "        0, 0, 0, 0, 0, 0, 0, 0, 0, 0, 0, 0, 0, 0, 0, 0, 0, 0, 0, 0, 0, 0,\n",
       "        0, 0, 0, 0, 0, 0, 0, 0, 0, 0, 0, 0, 0, 0, 0, 0, 0, 0, 0, 0, 0, 0,\n",
       "        0, 0, 0, 0, 0, 0, 0, 0, 0, 0, 0, 0, 0, 0, 0, 0, 0, 0, 0, 0, 0, 0,\n",
       "        0, 0, 0, 0, 0, 0, 0, 0, 0, 0, 0, 0, 0, 0, 0, 0, 0, 0, 0, 0, 0, 0,\n",
       "        0, 0],\n",
       "       [0, 0, 0, 0, 0, 0, 0, 0, 0, 0, 0, 1, 0, 0, 0, 0, 0, 0, 0, 0, 0, 0,\n",
       "        0, 0, 0, 0, 0, 0, 0, 0, 0, 0, 0, 0, 0, 0, 0, 0, 0, 0, 0, 0, 0, 0,\n",
       "        0, 0, 0, 0, 0, 0, 0, 0, 0, 0, 0, 0, 0, 0, 0, 0, 0, 0, 0, 0, 0, 0,\n",
       "        0, 0, 0, 0, 0, 0, 0, 0, 0, 0, 0, 0, 0, 0, 0, 0, 0, 0, 0, 0, 0, 0,\n",
       "        0, 0, 0, 0, 0, 0, 0, 0, 0, 0, 0, 0, 0, 0, 0, 0, 0, 0, 0, 0, 0, 0,\n",
       "        0, 0, 0, 0, 0, 0, 0, 0, 0, 0, 0, 0, 0, 0, 0, 0, 0, 0, 0, 0, 0, 0,\n",
       "        0, 0, 0, 0, 0, 0, 0, 0, 0, 0, 0, 0, 0, 0, 0, 0, 0, 0, 0, 0, 0, 0,\n",
       "        0, 0, 0, 0, 0, 0, 0, 0, 0, 0, 0, 0, 0, 0, 0, 0, 0, 0, 0, 0, 0, 0,\n",
       "        0, 0, 0, 0, 0, 0, 0, 0, 0, 0, 0, 0, 0, 0, 0, 0, 0, 0, 0, 0, 0, 0,\n",
       "        0, 0],\n",
       "       [0, 0, 0, 0, 0, 0, 0, 0, 0, 0, 0, 0, 0, 0, 0, 0, 0, 0, 0, 0, 0, 0,\n",
       "        0, 0, 0, 0, 0, 0, 0, 0, 0, 0, 0, 0, 0, 0, 0, 0, 0, 0, 0, 0, 0, 0,\n",
       "        0, 0, 0, 0, 0, 0, 0, 0, 0, 0, 0, 0, 0, 0, 0, 0, 0, 0, 0, 0, 0, 0,\n",
       "        0, 0, 0, 0, 0, 0, 0, 0, 0, 0, 0, 0, 0, 0, 0, 0, 0, 0, 0, 0, 0, 0,\n",
       "        0, 0, 0, 0, 0, 0, 0, 0, 0, 0, 0, 0, 0, 0, 0, 0, 0, 0, 0, 0, 0, 0,\n",
       "        0, 0, 0, 0, 0, 0, 0, 0, 0, 0, 0, 0, 0, 0, 0, 0, 0, 0, 0, 0, 0, 0,\n",
       "        0, 0, 0, 0, 0, 0, 0, 0, 0, 0, 0, 0, 0, 0, 0, 0, 0, 0, 0, 0, 0, 0,\n",
       "        0, 0, 0, 0, 0, 0, 0, 0, 0, 0, 0, 0, 0, 0, 0, 0, 0, 0, 0, 0, 0, 0,\n",
       "        0, 0, 0, 0, 0, 0, 0, 0, 0, 0, 0, 0, 0, 0, 0, 0, 0, 0, 0, 0, 0, 0,\n",
       "        0, 0],\n",
       "       [0, 0, 0, 0, 0, 0, 0, 0, 0, 0, 0, 0, 0, 0, 0, 0, 0, 0, 0, 0, 0, 0,\n",
       "        0, 0, 0, 0, 0, 0, 0, 0, 0, 0, 0, 0, 0, 0, 0, 0, 0, 0, 0, 0, 0, 0,\n",
       "        0, 0, 0, 0, 0, 0, 0, 0, 0, 0, 0, 0, 0, 0, 0, 0, 0, 0, 0, 0, 0, 0,\n",
       "        0, 0, 0, 0, 0, 0, 0, 0, 0, 0, 0, 0, 0, 0, 0, 0, 0, 0, 0, 0, 0, 0,\n",
       "        0, 0, 0, 0, 0, 0, 0, 0, 0, 0, 0, 0, 0, 0, 0, 0, 0, 0, 0, 0, 0, 0,\n",
       "        0, 0, 0, 0, 0, 0, 0, 0, 0, 0, 0, 0, 0, 0, 0, 0, 0, 0, 0, 0, 0, 0,\n",
       "        0, 0, 0, 0, 0, 0, 0, 0, 0, 0, 0, 0, 0, 0, 0, 0, 0, 0, 0, 0, 0, 0,\n",
       "        0, 0, 0, 0, 0, 0, 0, 0, 0, 0, 0, 0, 0, 0, 0, 0, 0, 0, 0, 0, 0, 0,\n",
       "        0, 0, 0, 0, 0, 0, 0, 0, 0, 0, 0, 0, 0, 0, 0, 0, 0, 0, 0, 0, 1, 0,\n",
       "        0, 0]])"
      ]
     },
     "execution_count": 118,
     "metadata": {},
     "output_type": "execute_result"
    }
   ],
   "source": [
    "Reddit_sample_counts[8:12, 0:200].toarray()"
   ]
  },
  {
   "cell_type": "code",
   "execution_count": 119,
   "metadata": {},
   "outputs": [
    {
     "data": {
      "text/plain": [
       "array(['all'], dtype=object)"
      ]
     },
     "execution_count": 119,
     "metadata": {},
     "output_type": "execute_result"
    }
   ],
   "source": [
    "count_vect.get_feature_names_out()[196:197]"
   ]
  },
  {
   "cell_type": "code",
   "execution_count": 121,
   "metadata": {},
   "outputs": [
    {
     "name": "stdout",
     "output_type": "stream",
     "text": [
      "word 84: 50\n",
      "word 36: 200k\n",
      "word 84: 50\n",
      "word 57: 30\n",
      "word 33: 20\n",
      "word 11: 11\n",
      "word 196: all\n"
     ]
    }
   ],
   "source": [
    "col_indices = Reddit_sample_counts[0:12, 0:200].nonzero()[1]   # take the non-zero column index\n",
    "words = [count_vect.get_feature_names_out()[i] for i in col_indices]\n",
    "for i in range(len(col_indices)):\n",
    "    print(f\"word {col_indices[i]}: {words[i]}\")"
   ]
  },
  {
   "cell_type": "code",
   "execution_count": 123,
   "metadata": {},
   "outputs": [
    {
     "data": {
      "image/png": "[encoded data removed]",
      "text/plain": [
       "<Figure size 2000x800 with 2 Axes>"
      ]
     },
     "metadata": {},
     "output_type": "display_data"
    }
   ],
   "source": [
    "import matplotlib.pyplot as plt\n",
    "import seaborn as sns\n",
    "\n",
    "num_docs = 50  # choose the amount of documents to visualize\n",
    "top_n = 20     # choose the amount of top frequent terms to visualize\n",
    "\n",
    "# calculate term frequencies in the first num_docs documents\n",
    "term_freq = np.asarray(Reddit_sample_counts[:num_docs].sum(axis=0)).ravel()\n",
    "top_idx = np.argsort(term_freq)[::-1][:top_n]   \n",
    "\n",
    "# take the amount of top_n terms in each of the first num_docs documents\n",
    "X_top = Reddit_sample_counts[:num_docs, top_idx].toarray()\n",
    "\n",
    "# take term names\n",
    "terms = np.array(count_vect.get_feature_names_out())[top_idx]\n",
    "\n",
    "# labels for plot\n",
    "exer_plot_x = [f\"term_{idx}: {term}\" for idx, term in zip(top_idx, terms)]\n",
    "exer_plot_y = [f\"doc_{i}\" for i in range(num_docs)]\n",
    "\n",
    "df_todraw = pd.DataFrame(\n",
    "    X_top.T,\n",
    "    index=exer_plot_x,\n",
    "    columns=exer_plot_y\n",
    ")\n",
    "\n",
    "plt.figure(figsize=(min(20, num_docs // 2), 8))\n",
    "sns.heatmap(df_todraw, cmap=\"magma\", cbar=True)\n",
    "plt.xlabel(\"Documents\")\n",
    "plt.ylabel(\"High-Frequency Terms (with Original Index)\")\n",
    "plt.title(f\"Heatmap of Top {top_n} Frequent Terms (First {num_docs} Docs Only)\")\n",
    "plt.tight_layout()\n",
    "plt.show()\n"
   ]
  },
  {
   "cell_type": "markdown",
   "metadata": {},
   "source": [
    "##### 5.4 Attribute Transformation"
   ]
  },
  {
   "cell_type": "code",
   "execution_count": 125,
   "metadata": {},
   "outputs": [
    {
     "data": {
      "text/plain": [
       "np.int64(5)"
      ]
     },
     "execution_count": 125,
     "metadata": {},
     "output_type": "execute_result"
    }
   ],
   "source": [
    "term_frequencies = []\n",
    "for j in range(0,Reddit_sample_counts.shape[1]):\n",
    "    term_frequencies.append(sum(Reddit_sample_counts[:,j].toarray()))\n",
    "\n",
    "term_frequencies = np.asarray(Reddit_sample_counts.sum(axis=0))[0]\n",
    "term_frequencies[0] \n"
   ]
  },
  {
   "cell_type": "code",
   "execution_count": 126,
   "metadata": {},
   "outputs": [
    {
     "data": {
      "application/vnd.plotly.v1+json": {
       "config": {
        "plotlyServerURL": "https://plot.ly"
       },
       "data": [
        {
         "hovertemplate": "Terms=%{x}<br>Frequencies=%{y}<extra></extra>",
         "legendgroup": "",
         "marker": {
          "color": "#636efa",
          "pattern": {
           "shape": ""
          }
         },
         "name": "",
         "orientation": "v",
         "showlegend": false,
         "textposition": "auto",
         "type": "bar",
         "x": [
          "000",
          "01378",
          "02",
          "03",
          "08",
          "10",
          "100",
          "1000",
          "10000",
          "100k",
          "10yr",
          "11",
          "116",
          "118",
          "12",
          "125",
          "13",
          "14",
          "140",
          "145",
          "15",
          "150",
          "153",
          "16",
          "160",
          "17",
          "17th",
          "18",
          "186",
          "18630",
          "1934",
          "1945",
          "1992",
          "20",
          "200",
          "2007",
          "200k",
          "2017",
          "2021",
          "2024",
          "2025",
          "208",
          "21",
          "22",
          "22rate",
          "23",
          "24",
          "25",
          "250",
          "25k",
          "27",
          "28",
          "2c_books",
          "2c_wiki_recommendations",
          "2fapps",
          "2nd",
          "2s",
          "30",
          "31",
          "31224",
          "33",
          "35",
          "350",
          "3a",
          "3d",
          "3f",
          "3k",
          "3oz8xzgfhartvh99yi",
          "40",
          "401k",
          "404",
          "42",
          "4260",
          "4267",
          "4271",
          "4359",
          "45",
          "4500",
          "456",
          "4675",
          "4900",
          "4m",
          "4th",
          "4x",
          "50",
          "500",
          "5000",
          "50k",
          "522",
          "540",
          "55",
          "58",
          "60",
          "600k",
          "64",
          "65",
          "66",
          "6969",
          "6k",
          "6th",
          "70",
          "7500",
          "77",
          "7s",
          "80",
          "81",
          "83",
          "8882",
          "8883",
          "90",
          "95",
          "97",
          "98",
          "99",
          "9k",
          "_so",
          "aapl",
          "ability",
          "able",
          "about",
          "above",
          "absolute",
          "absolutely",
          "acceptable",
          "accepted",
          "access",
          "according",
          "account",
          "accretive",
          "accurate",
          "accurately",
          "aces",
          "achieved",
          "achievement",
          "achieves",
          "acn",
          "acquires",
          "acquisition",
          "acquisitions",
          "across",
          "act",
          "actionable",
          "actively",
          "activity",
          "actors",
          "acts",
          "actual",
          "actually",
          "ad",
          "add",
          "addicted",
          "adding",
          "addition",
          "additional",
          "adjacent",
          "adjust",
          "admin",
          "administration",
          "administrations",
          "admins",
          "adobe",
          "adult",
          "advanced",
          "advertisements",
          "advice",
          "advised",
          "aerc",
          "aerocontractors",
          "affect",
          "affected",
          "afford",
          "africa",
          "after",
          "again",
          "against",
          "agane",
          "age",
          "agenda",
          "agentnlp",
          "aggressively",
          "aggressor",
          "ago",
          "agree",
          "agreed",
          "agreement",
          "agriculture",
          "ai",
          "aid",
          "aimed",
          "ain",
          "air",
          "aircraft",
          "airline",
          "airlines",
          "aka",
          "alerts",
          "all",
          "allies",
          "allows",
          "almasria",
          "almost",
          "alone",
          "along",
          "already",
          "also",
          "always",
          "am",
          "amass",
          "amazon",
          "amc",
          "amd",
          "america",
          "american",
          "americans",
          "among",
          "amount",
          "amzn",
          "an",
          "analysis",
          "analyst",
          "analysts",
          "analytics",
          "and",
          "andrew",
          "anduril",
          "angeles",
          "anger",
          "angle",
          "animal",
          "anime",
          "annex",
          "announce",
          "announced",
          "announces",
          "annoying",
          "annual",
          "annually",
          "another",
          "anticipate",
          "any",
          "anymore",
          "anyone",
          "anything",
          "anyway",
          "anywhere",
          "aoc",
          "app",
          "apparently",
          "appears",
          "apple",
          "applying",
          "appointments",
          "appreciated",
          "approved",
          "april",
          "aptitude",
          "aquafina",
          "arbitrary",
          "ard",
          "are",
          "arhs",
          "arkb",
          "arming",
          "arms",
          "around",
          "art",
          "article",
          "articles",
          "artificial",
          "as",
          "asap",
          "ashes",
          "asia",
          "ask",
          "asking",
          "asml",
          "ass",
          "assets",
          "assume",
          "assuming",
          "assumption",
          "astonished",
          "astonishing",
          "at",
          "ath",
          "atlas",
          "ats",
          "attendance",
          "attention",
          "attracted",
          "attractive",
          "atus",
          "audience",
          "authority",
          "auto",
          "autocracy",
          "automakers",
          "auusi",
          "available",
          "avgo"
         ],
         "xaxis": "x",
         "y": {
          "bdata": "BQABAAEAAQABAAsABQABAAEAAQABAAMAAwABAAUAAgACAAEAAQABAAMAAgABAAEAAQABAAIAAQABAAEAAQABAAEABAACAAEAAQABAAEAAQAEAAEAAgACAAEAAgABAAIAAgACAAEAAQABAAEAAQABAAEABgABAAEAAQABAAEAAQACAAEAAQABAAQAAQABAAEAAQABAAMAAQABAAEAAQABAAEAAQABAAEABgACAAEAAQABAAEAAQABAAIAAQACAAIAAQABAAEAAQACAAEAAQABAAEAAQABAAEAAQACAAEAAQABAAEAAQABAAMAAQAEACgAAwABAAMAAQABAAEAAQABAAEAAgABAAEAAQABAAEAAwABAAMAAQABAAEAAwABAAIAAQABAAIABwABAAEAAQADAAEABAABAAIAAgAJAAEAAQABAAEAAQABAAQAAQABAAMAAQACAAEAAQAQAAcAAgABAAEAAQABAAEAAQAFAAQAAQABAAEAAwABAAEAAgADAAIAAQAGAAEAAgA1AAMAAgADAAIAAgADAA8ADgALAAoAAQAEAAQAAQAKAAgABgABAAMAAwAeAAkAAQABAAEAKwEBAAEAAQABAAEAAQABAAIAAQACAAEAAQABAAEABgABABEABgAIAAcAAwABAAEAAQABAAEABAABAAEAAQACAAUAAQABAAEAAQBaAAEAAQABAAEACQACAAMAAQABAEcAAQABAAEAAwACAAMABAAEAAIAAwACAAEAAQA6AAEAAwADAAEAAQABAAEAAQABAAEAAwABAAEAAQABAAEA",
          "dtype": "i2"
         },
         "yaxis": "y"
        }
       ],
       "layout": {
        "barmode": "relative",
        "legend": {
         "tracegroupgap": 0
        },
        "template": {
         "data": {
          "bar": [
           {
            "error_x": {
             "color": "#2a3f5f"
            },
            "error_y": {
             "color": "#2a3f5f"
            },
            "marker": {
             "line": {
              "color": "#E5ECF6",
              "width": 0.5
             },
             "pattern": {
              "fillmode": "overlay",
              "size": 10,
              "solidity": 0.2
             }
            },
            "type": "bar"
           }
          ],
          "barpolar": [
           {
            "marker": {
             "line": {
              "color": "#E5ECF6",
              "width": 0.5
             },
             "pattern": {
              "fillmode": "overlay",
              "size": 10,
              "solidity": 0.2
             }
            },
            "type": "barpolar"
           }
          ],
          "carpet": [
           {
            "aaxis": {
             "endlinecolor": "#2a3f5f",
             "gridcolor": "white",
             "linecolor": "white",
             "minorgridcolor": "white",
             "startlinecolor": "#2a3f5f"
            },
            "baxis": {
             "endlinecolor": "#2a3f5f",
             "gridcolor": "white",
             "linecolor": "white",
             "minorgridcolor": "white",
             "startlinecolor": "#2a3f5f"
            },
            "type": "carpet"
           }
          ],
          "choropleth": [
           {
            "colorbar": {
             "outlinewidth": 0,
             "ticks": ""
            },
            "type": "choropleth"
           }
          ],
          "contour": [
           {
            "colorbar": {
             "outlinewidth": 0,
             "ticks": ""
            },
            "colorscale": [
             [
              0,
              "#0d0887"
             ],
             [
              0.1111111111111111,
              "#46039f"
             ],
             [
              0.2222222222222222,
              "#7201a8"
             ],
             [
              0.3333333333333333,
              "#9c179e"
             ],
             [
              0.4444444444444444,
              "#bd3786"
             ],
             [
              0.5555555555555556,
              "#d8576b"
             ],
             [
              0.6666666666666666,
              "#ed7953"
             ],
             [
              0.7777777777777778,
              "#fb9f3a"
             ],
             [
              0.8888888888888888,
              "#fdca26"
             ],
             [
              1,
              "#f0f921"
             ]
            ],
            "type": "contour"
           }
          ],
          "contourcarpet": [
           {
            "colorbar": {
             "outlinewidth": 0,
             "ticks": ""
            },
            "type": "contourcarpet"
           }
          ],
          "heatmap": [
           {
            "colorbar": {
             "outlinewidth": 0,
             "ticks": ""
            },
            "colorscale": [
             [
              0,
              "#0d0887"
             ],
             [
              0.1111111111111111,
              "#46039f"
             ],
             [
              0.2222222222222222,
              "#7201a8"
             ],
             [
              0.3333333333333333,
              "#9c179e"
             ],
             [
              0.4444444444444444,
              "#bd3786"
             ],
             [
              0.5555555555555556,
              "#d8576b"
             ],
             [
              0.6666666666666666,
              "#ed7953"
             ],
             [
              0.7777777777777778,
              "#fb9f3a"
             ],
             [
              0.8888888888888888,
              "#fdca26"
             ],
             [
              1,
              "#f0f921"
             ]
            ],
            "type": "heatmap"
           }
          ],
          "histogram": [
           {
            "marker": {
             "pattern": {
              "fillmode": "overlay",
              "size": 10,
              "solidity": 0.2
             }
            },
            "type": "histogram"
           }
          ],
          "histogram2d": [
           {
            "colorbar": {
             "outlinewidth": 0,
             "ticks": ""
            },
            "colorscale": [
             [
              0,
              "#0d0887"
             ],
             [
              0.1111111111111111,
              "#46039f"
             ],
             [
              0.2222222222222222,
              "#7201a8"
             ],
             [
              0.3333333333333333,
              "#9c179e"
             ],
             [
              0.4444444444444444,
              "#bd3786"
             ],
             [
              0.5555555555555556,
              "#d8576b"
             ],
             [
              0.6666666666666666,
              "#ed7953"
             ],
             [
              0.7777777777777778,
              "#fb9f3a"
             ],
             [
              0.8888888888888888,
              "#fdca26"
             ],
             [
              1,
              "#f0f921"
             ]
            ],
            "type": "histogram2d"
           }
          ],
          "histogram2dcontour": [
           {
            "colorbar": {
             "outlinewidth": 0,
             "ticks": ""
            },
            "colorscale": [
             [
              0,
              "#0d0887"
             ],
             [
              0.1111111111111111,
              "#46039f"
             ],
             [
              0.2222222222222222,
              "#7201a8"
             ],
             [
              0.3333333333333333,
              "#9c179e"
             ],
             [
              0.4444444444444444,
              "#bd3786"
             ],
             [
              0.5555555555555556,
              "#d8576b"
             ],
             [
              0.6666666666666666,
              "#ed7953"
             ],
             [
              0.7777777777777778,
              "#fb9f3a"
             ],
             [
              0.8888888888888888,
              "#fdca26"
             ],
             [
              1,
              "#f0f921"
             ]
            ],
            "type": "histogram2dcontour"
           }
          ],
          "mesh3d": [
           {
            "colorbar": {
             "outlinewidth": 0,
             "ticks": ""
            },
            "type": "mesh3d"
           }
          ],
          "parcoords": [
           {
            "line": {
             "colorbar": {
              "outlinewidth": 0,
              "ticks": ""
             }
            },
            "type": "parcoords"
           }
          ],
          "pie": [
           {
            "automargin": true,
            "type": "pie"
           }
          ],
          "scatter": [
           {
            "fillpattern": {
             "fillmode": "overlay",
             "size": 10,
             "solidity": 0.2
            },
            "type": "scatter"
           }
          ],
          "scatter3d": [
           {
            "line": {
             "colorbar": {
              "outlinewidth": 0,
              "ticks": ""
             }
            },
            "marker": {
             "colorbar": {
              "outlinewidth": 0,
              "ticks": ""
             }
            },
            "type": "scatter3d"
           }
          ],
          "scattercarpet": [
           {
            "marker": {
             "colorbar": {
              "outlinewidth": 0,
              "ticks": ""
             }
            },
            "type": "scattercarpet"
           }
          ],
          "scattergeo": [
           {
            "marker": {
             "colorbar": {
              "outlinewidth": 0,
              "ticks": ""
             }
            },
            "type": "scattergeo"
           }
          ],
          "scattergl": [
           {
            "marker": {
             "colorbar": {
              "outlinewidth": 0,
              "ticks": ""
             }
            },
            "type": "scattergl"
           }
          ],
          "scattermap": [
           {
            "marker": {
             "colorbar": {
              "outlinewidth": 0,
              "ticks": ""
             }
            },
            "type": "scattermap"
           }
          ],
          "scattermapbox": [
           {
            "marker": {
             "colorbar": {
              "outlinewidth": 0,
              "ticks": ""
             }
            },
            "type": "scattermapbox"
           }
          ],
          "scatterpolar": [
           {
            "marker": {
             "colorbar": {
              "outlinewidth": 0,
              "ticks": ""
             }
            },
            "type": "scatterpolar"
           }
          ],
          "scatterpolargl": [
           {
            "marker": {
             "colorbar": {
              "outlinewidth": 0,
              "ticks": ""
             }
            },
            "type": "scatterpolargl"
           }
          ],
          "scatterternary": [
           {
            "marker": {
             "colorbar": {
              "outlinewidth": 0,
              "ticks": ""
             }
            },
            "type": "scatterternary"
           }
          ],
          "surface": [
           {
            "colorbar": {
             "outlinewidth": 0,
             "ticks": ""
            },
            "colorscale": [
             [
              0,
              "#0d0887"
             ],
             [
              0.1111111111111111,
              "#46039f"
             ],
             [
              0.2222222222222222,
              "#7201a8"
             ],
             [
              0.3333333333333333,
              "#9c179e"
             ],
             [
              0.4444444444444444,
              "#bd3786"
             ],
             [
              0.5555555555555556,
              "#d8576b"
             ],
             [
              0.6666666666666666,
              "#ed7953"
             ],
             [
              0.7777777777777778,
              "#fb9f3a"
             ],
             [
              0.8888888888888888,
              "#fdca26"
             ],
             [
              1,
              "#f0f921"
             ]
            ],
            "type": "surface"
           }
          ],
          "table": [
           {
            "cells": {
             "fill": {
              "color": "#EBF0F8"
             },
             "line": {
              "color": "white"
             }
            },
            "header": {
             "fill": {
              "color": "#C8D4E3"
             },
             "line": {
              "color": "white"
             }
            },
            "type": "table"
           }
          ]
         },
         "layout": {
          "annotationdefaults": {
           "arrowcolor": "#2a3f5f",
           "arrowhead": 0,
           "arrowwidth": 1
          },
          "autotypenumbers": "strict",
          "coloraxis": {
           "colorbar": {
            "outlinewidth": 0,
            "ticks": ""
           }
          },
          "colorscale": {
           "diverging": [
            [
             0,
             "#8e0152"
            ],
            [
             0.1,
             "#c51b7d"
            ],
            [
             0.2,
             "#de77ae"
            ],
            [
             0.3,
             "#f1b6da"
            ],
            [
             0.4,
             "#fde0ef"
            ],
            [
             0.5,
             "#f7f7f7"
            ],
            [
             0.6,
             "#e6f5d0"
            ],
            [
             0.7,
             "#b8e186"
            ],
            [
             0.8,
             "#7fbc41"
            ],
            [
             0.9,
             "#4d9221"
            ],
            [
             1,
             "#276419"
            ]
           ],
           "sequential": [
            [
             0,
             "#0d0887"
            ],
            [
             0.1111111111111111,
             "#46039f"
            ],
            [
             0.2222222222222222,
             "#7201a8"
            ],
            [
             0.3333333333333333,
             "#9c179e"
            ],
            [
             0.4444444444444444,
             "#bd3786"
            ],
            [
             0.5555555555555556,
             "#d8576b"
            ],
            [
             0.6666666666666666,
             "#ed7953"
            ],
            [
             0.7777777777777778,
             "#fb9f3a"
            ],
            [
             0.8888888888888888,
             "#fdca26"
            ],
            [
             1,
             "#f0f921"
            ]
           ],
           "sequentialminus": [
            [
             0,
             "#0d0887"
            ],
            [
             0.1111111111111111,
             "#46039f"
            ],
            [
             0.2222222222222222,
             "#7201a8"
            ],
            [
             0.3333333333333333,
             "#9c179e"
            ],
            [
             0.4444444444444444,
             "#bd3786"
            ],
            [
             0.5555555555555556,
             "#d8576b"
            ],
            [
             0.6666666666666666,
             "#ed7953"
            ],
            [
             0.7777777777777778,
             "#fb9f3a"
            ],
            [
             0.8888888888888888,
             "#fdca26"
            ],
            [
             1,
             "#f0f921"
            ]
           ]
          },
          "colorway": [
           "#636efa",
           "#EF553B",
           "#00cc96",
           "#ab63fa",
           "#FFA15A",
           "#19d3f3",
           "#FF6692",
           "#B6E880",
           "#FF97FF",
           "#FECB52"
          ],
          "font": {
           "color": "#2a3f5f"
          },
          "geo": {
           "bgcolor": "white",
           "lakecolor": "white",
           "landcolor": "#E5ECF6",
           "showlakes": true,
           "showland": true,
           "subunitcolor": "white"
          },
          "hoverlabel": {
           "align": "left"
          },
          "hovermode": "closest",
          "mapbox": {
           "style": "light"
          },
          "paper_bgcolor": "white",
          "plot_bgcolor": "#E5ECF6",
          "polar": {
           "angularaxis": {
            "gridcolor": "white",
            "linecolor": "white",
            "ticks": ""
           },
           "bgcolor": "#E5ECF6",
           "radialaxis": {
            "gridcolor": "white",
            "linecolor": "white",
            "ticks": ""
           }
          },
          "scene": {
           "xaxis": {
            "backgroundcolor": "#E5ECF6",
            "gridcolor": "white",
            "gridwidth": 2,
            "linecolor": "white",
            "showbackground": true,
            "ticks": "",
            "zerolinecolor": "white"
           },
           "yaxis": {
            "backgroundcolor": "#E5ECF6",
            "gridcolor": "white",
            "gridwidth": 2,
            "linecolor": "white",
            "showbackground": true,
            "ticks": "",
            "zerolinecolor": "white"
           },
           "zaxis": {
            "backgroundcolor": "#E5ECF6",
            "gridcolor": "white",
            "gridwidth": 2,
            "linecolor": "white",
            "showbackground": true,
            "ticks": "",
            "zerolinecolor": "white"
           }
          },
          "shapedefaults": {
           "line": {
            "color": "#2a3f5f"
           }
          },
          "ternary": {
           "aaxis": {
            "gridcolor": "white",
            "linecolor": "white",
            "ticks": ""
           },
           "baxis": {
            "gridcolor": "white",
            "linecolor": "white",
            "ticks": ""
           },
           "bgcolor": "#E5ECF6",
           "caxis": {
            "gridcolor": "white",
            "linecolor": "white",
            "ticks": ""
           }
          },
          "title": {
           "x": 0.05
          },
          "xaxis": {
           "automargin": true,
           "gridcolor": "white",
           "linecolor": "white",
           "ticks": "",
           "title": {
            "standoff": 15
           },
           "zerolinecolor": "white",
           "zerolinewidth": 2
          },
          "yaxis": {
           "automargin": true,
           "gridcolor": "white",
           "linecolor": "white",
           "ticks": "",
           "title": {
            "standoff": 15
           },
           "zerolinecolor": "white",
           "zerolinewidth": 2
          }
         }
        },
        "title": {
         "text": "Top 300 Terms Frequency"
        },
        "xaxis": {
         "anchor": "y",
         "domain": [
          0,
          1
         ],
         "tickangle": 90,
         "title": {
          "text": "Terms"
         }
        },
        "yaxis": {
         "anchor": "x",
         "domain": [
          0,
          1
         ],
         "title": {
          "text": "Frequencies"
         }
        }
       }
      }
     },
     "metadata": {},
     "output_type": "display_data"
    }
   ],
   "source": [
    "import plotly.express as px\n",
    "\n",
    "fig = px.bar(\n",
    "    x = count_vect.get_feature_names_out()[:300],\n",
    "    y = term_frequencies[:300],                     # choose top 300 terms\n",
    "    labels={'x':'Terms', 'y':'Frequencies'},\n",
    "    title=\"Top 300 Terms Frequency\"\n",
    ")\n",
    "fig.update_layout(xaxis_tickangle=90)  \n",
    "fig.show()\n"
   ]
  },
  {
   "cell_type": "markdown",
   "metadata": {},
   "source": [
    "top frequency terms"
   ]
  },
  {
   "cell_type": "code",
   "execution_count": 128,
   "metadata": {},
   "outputs": [
    {
     "name": "stderr",
     "output_type": "stream",
     "text": [
      "/var/folders/49/11swh7_n1x358qyfrqndksw00000gn/T/ipykernel_57444/3197308098.py:22: UserWarning:\n",
      "\n",
      "set_ticklabels() should only be used with a fixed number of ticks, i.e. after set_ticks() or using a FixedLocator.\n",
      "\n"
     ]
    },
    {
     "data": {
      "image/png": "[encoded data removed]",
      "text/plain": [
       "<Figure size 2000x800 with 1 Axes>"
      ]
     },
     "metadata": {},
     "output_type": "display_data"
    }
   ],
   "source": [
    "num_docs_2 = 200   # choose the amount of documents to visualize\n",
    "top_n_2  = 100     # choose the amount of top frequent terms to visualize\n",
    "\n",
    "# cauculate term frequencies in the first num_docs documents\n",
    "term_freq_2 = np.asarray(Reddit_sample_counts.sum(axis=0)).ravel()\n",
    "\n",
    "# pick the indices of the top_n_2 most frequent terms (no sorting by frequency)\n",
    "rough     = np.argpartition(term_freq_2, -top_n_2)[-top_n_2:]\n",
    "topn_idx  = np.sort(rough)   \n",
    "\n",
    "# take the amount of top_n terms in each of the first num_docs documents\n",
    "X_small = Reddit_sample_counts[:num_docs_2, topn_idx].toarray()\n",
    "terms   = np.array(count_vect.get_feature_names_out())[topn_idx]\n",
    "\n",
    "# collect the top term frequencies for plotting\n",
    "top_term_freq_2 = term_freq_2[topn_idx]\n",
    "\n",
    "\n",
    "plt.figure(figsize=(20, 8))\n",
    "g = sns.barplot(x=terms, y=top_term_freq_2)\n",
    "g.set_xticklabels(terms, rotation=90)\n",
    "plt.title(f\"Top {top_n_2} Frequent Terms (within first {num_docs_2} docs)\")\n",
    "plt.xlabel(\"Terms\")\n",
    "plt.ylabel(\"Frequencies\")\n",
    "plt.tight_layout()\n",
    "plt.show()\n"
   ]
  },
  {
   "cell_type": "markdown",
   "metadata": {},
   "source": [
    "top frequency terms ( long-tailed )"
   ]
  },
  {
   "cell_type": "code",
   "execution_count": 129,
   "metadata": {},
   "outputs": [
    {
     "name": "stderr",
     "output_type": "stream",
     "text": [
      "/var/folders/49/11swh7_n1x358qyfrqndksw00000gn/T/ipykernel_57444/4056161656.py:21: UserWarning:\n",
      "\n",
      "set_ticklabels() should only be used with a fixed number of ticks, i.e. after set_ticks() or using a FixedLocator.\n",
      "\n"
     ]
    },
    {
     "data": {
      "image/png": "[encoded data removed]",
      "text/plain": [
       "<Figure size 2000x800 with 1 Axes>"
      ]
     },
     "metadata": {},
     "output_type": "display_data"
    }
   ],
   "source": [
    "num_docs_2 = 200   # choose the amount of documents to visualize\n",
    "top_n_2  = 100     # choose the amount of top frequent terms to visualize\n",
    "\n",
    "# cauculate term frequencies in the first num_docs documents\n",
    "term_frequencies_log = np.asarray(Reddit_sample_counts[:num_docs_2].sum(axis=0)).ravel()\n",
    "\n",
    "# pick the indices of the top_n most frequent terms efficiently (O(n) partition + local sort)\n",
    "rough = np.argpartition(term_frequencies_log, -top_n_2)[-top_n_2:]\n",
    "topn_idx = rough[np.argsort(term_frequencies_log[rough])[::-1]]\n",
    "\n",
    "# take the amount of top_n terms in each of the first num_docs documents\n",
    "X_small = Reddit_sample_counts[:num_docs_2, topn_idx].toarray()\n",
    "terms   = np.array(count_vect.get_feature_names_out())[topn_idx]\n",
    "\n",
    "# collect the top term frequencies for plotting\n",
    "top_term_freq_2_log = term_freq_2[topn_idx]\n",
    "\n",
    "\n",
    "plt.figure(figsize=(20, 8))\n",
    "g = sns.barplot(x=terms, y=top_term_freq_2_log)\n",
    "g.set_xticklabels(terms, rotation=90)\n",
    "plt.title(f\"Top {top_n_2} Frequent Terms (within first {num_docs_2} docs)\")\n",
    "plt.xlabel(\"Terms\")\n",
    "plt.ylabel(\"Frequencies\")\n",
    "plt.tight_layout()\n",
    "plt.show()"
   ]
  },
  {
   "cell_type": "code",
   "execution_count": 130,
   "metadata": {},
   "outputs": [
    {
     "name": "stderr",
     "output_type": "stream",
     "text": [
      "/var/folders/49/11swh7_n1x358qyfrqndksw00000gn/T/ipykernel_57444/3655612951.py:7: UserWarning:\n",
      "\n",
      "set_ticklabels() should only be used with a fixed number of ticks, i.e. after set_ticks() or using a FixedLocator.\n",
      "\n"
     ]
    },
    {
     "data": {
      "image/png": "[encoded data removed]",
      "text/plain": [
       "<Figure size 10000x1000 with 1 Axes>"
      ]
     },
     "metadata": {},
     "output_type": "display_data"
    }
   ],
   "source": [
    "import math\n",
    "term_frequencies_log = [math.log(i) for i in term_frequencies]\n",
    "\n",
    "plt.subplots(figsize=(100, 10))\n",
    "g = sns.barplot(x=count_vect.get_feature_names_out()[:300],\n",
    "                y=term_frequencies_log[:300])\n",
    "g.set_xticklabels(count_vect.get_feature_names_out()[:300], rotation = 90);"
   ]
  },
  {
   "cell_type": "markdown",
   "metadata": {},
   "source": [
    "top frequency terms ( log )"
   ]
  },
  {
   "cell_type": "code",
   "execution_count": 131,
   "metadata": {},
   "outputs": [
    {
     "name": "stderr",
     "output_type": "stream",
     "text": [
      "/var/folders/49/11swh7_n1x358qyfrqndksw00000gn/T/ipykernel_57444/1314664237.py:23: UserWarning:\n",
      "\n",
      "set_ticklabels() should only be used with a fixed number of ticks, i.e. after set_ticks() or using a FixedLocator.\n",
      "\n"
     ]
    },
    {
     "data": {
      "image/png": "[encoded data removed]",
      "text/plain": [
       "<Figure size 2000x800 with 1 Axes>"
      ]
     },
     "metadata": {},
     "output_type": "display_data"
    }
   ],
   "source": [
    "# choose the amount of documents/terms to visualize\n",
    "num_docs_2 = 200\n",
    "top_n_2    = 100\n",
    "\n",
    "# calculate raw term frequencies in the first num_docs_2 documents\n",
    "tf = np.asarray(Reddit_sample_counts[:num_docs_2].sum(axis=0)).ravel()    \n",
    "\n",
    "# select the indices of the top_n_2 most frequent terms (by raw counts)\n",
    "rough     = np.argpartition(tf, -top_n_2)[-top_n_2:]\n",
    "topn_idx  = rough[np.argsort(tf[rough])[::-1]]                 # sorted by raw frequency desc\n",
    "\n",
    "# take the amount of top_n_2 terms in each of the first num_docs_2 documents\n",
    "X_small = Reddit_sample_counts[:num_docs_2, topn_idx].toarray()\n",
    "terms   = np.array(count_vect.get_feature_names_out())[topn_idx]\n",
    "\n",
    "# apply log transform for plotting (sublinear scaling)\n",
    "tf_log = np.log1p(tf)                                          # log(1 + tf), shape: (n_terms,)\n",
    "top_term_frequencies_log = tf_log[topn_idx]                    # same terms as above\n",
    "\n",
    "\n",
    "plt.figure(figsize=(20, 8))\n",
    "g = sns.barplot(x=terms, y=top_term_frequencies_log)\n",
    "g.set_xticklabels(terms, rotation=90)\n",
    "plt.title(f\"Top {top_n_2} Terms (log-scaled), within first {num_docs_2} docs\")\n",
    "plt.xlabel(\"Terms\")\n",
    "plt.ylabel(\"log(1 + frequency)\")\n",
    "plt.tight_layout()\n",
    "plt.show()\n"
   ]
  },
  {
   "cell_type": "markdown",
   "metadata": {},
   "source": [
    "Scatter plot: Polarity vs Subjectivity by Subreddit"
   ]
  },
  {
   "cell_type": "code",
   "execution_count": 167,
   "metadata": {},
   "outputs": [
    {
     "data": {
      "image/png": "[encoded data removed]",
      "text/plain": [
       "<Figure size 1000x600 with 1 Axes>"
      ]
     },
     "metadata": {},
     "output_type": "display_data"
    }
   ],
   "source": [
    "Reddit_sample['polarity'] = pd.to_numeric(Reddit_sample['polarity'], errors='coerce')\n",
    "Reddit_sample['subjectivity'] = pd.to_numeric(Reddit_sample['subjectivity'], errors='coerce')\n",
    "\n",
    "\n",
    "df_plot = Reddit_sample.dropna(subset=['polarity', 'subjectivity', 'subreddit'])\n",
    "\n",
    "top_subs = df_plot['subreddit'].value_counts().head(8).index\n",
    "df_top = df_plot[df_plot['subreddit'].isin(top_subs)]\n",
    "\n",
    "\n",
    "plt.figure(figsize=(10, 6))\n",
    "sns.scatterplot(\n",
    "    data=df_top,\n",
    "    x='polarity',\n",
    "    y='subjectivity',\n",
    "    hue='subreddit',\n",
    "    alpha=0.7,\n",
    "    palette='tab10'\n",
    ")\n",
    "\n",
    "plt.title(\"Polarity vs Subjectivity by Subreddit\", fontsize=14)\n",
    "plt.xlabel(\"Polarity (Negative <--> Positive)\")\n",
    "plt.ylabel(\"Subjectivity (Objective <--> Subjective)\")\n",
    "plt.legend(title=\"Subreddit\", bbox_to_anchor=(1.05, 1))\n",
    "plt.grid(True, linestyle='--', alpha=0.3)\n",
    "plt.tight_layout()\n",
    "plt.show()"
   ]
  },
  {
   "cell_type": "markdown",
   "metadata": {},
   "source": [
    "##### 整體觀察\n",
    "1. 情緒極性分佈: 大多數點集中在 接近 0 的區域，表示多數貼文的情緒偏中立，接近 -1 或 +1 的極端情緒貼文相對少見。\n",
    "2. 主觀性分佈: 多數貼文的主觀性介於 0.4 到 0.8 之間，顯示大部分內容帶有一定的主觀意見，而非完全客觀。\n",
    "\n",
    "##### Subreddit 差異\n",
    "StockMarket（藍色） 與 stocks（綠色） 分佈較均勻，整體情緒偏中性，可能反映分析討論類貼文居多。\n",
    "wallstreetbets（橘色） 的點分布較極端且主觀性高。\n",
    "stockstobuytoday（紅色） 的貼文多為中度正向但主觀性偏高，可能表示其內容多為個人意見或建議。\n",
    "\n",
    "##### 解讀與洞察\n",
    "\n",
    "推測社群性質：\n",
    "* StockMarket 可能為提供分析建議的社群，使其語氣中立、主觀性低。\n",
    "* wallstreetbets 語氣極端、主觀性高，推測其社群可能較情緒化或投機。\n"
   ]
  },
  {
   "cell_type": "markdown",
   "metadata": {},
   "source": [
    "# Phase 2"
   ]
  },
  {
   "cell_type": "code",
   "execution_count": 86,
   "metadata": {},
   "outputs": [],
   "source": [
    "### Begin Assignment Here"
   ]
  }
 ],
 "metadata": {
  "kernelspec": {
   "display_name": "Python (dm2025lab)",
   "language": "python",
   "name": "dm2025lab"
  },
  "language_info": {
   "codemirror_mode": {
    "name": "ipython",
    "version": 3
   },
   "file_extension": ".py",
   "mimetype": "text/x-python",
   "name": "python",
   "nbconvert_exporter": "python",
   "pygments_lexer": "ipython3",
   "version": "3.11.0"
  }
 },
 "nbformat": 4,
 "nbformat_minor": 4
}
